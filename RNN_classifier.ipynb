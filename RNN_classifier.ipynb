{
  "nbformat": 4,
  "nbformat_minor": 0,
  "metadata": {
    "colab": {
      "name": "NLP_Project4_RNN-1(2).ipynb",
      "provenance": [],
      "machine_shape": "hm"
    },
    "kernelspec": {
      "name": "python3",
      "display_name": "Python 3"
    },
    "accelerator": "GPU"
  },
  "cells": [
    {
      "cell_type": "code",
      "metadata": {
        "id": "H_-R4jiagTsu",
        "colab": {
          "base_uri": "https://localhost:8080/"
        },
        "outputId": "13e7faf3-02fc-4c80-db72-8ab12e622a29"
      },
      "source": [
        "!pip install --upgrade tensorflow\n",
        "!pip install -U Keras\n",
        "!pip install seaborn"
      ],
      "execution_count": 1,
      "outputs": [
        {
          "output_type": "stream",
          "text": [
            "Requirement already up-to-date: tensorflow in /usr/local/lib/python3.6/dist-packages (2.4.1)\n",
            "Requirement already satisfied, skipping upgrade: wrapt~=1.12.1 in /usr/local/lib/python3.6/dist-packages (from tensorflow) (1.12.1)\n",
            "Requirement already satisfied, skipping upgrade: absl-py~=0.10 in /usr/local/lib/python3.6/dist-packages (from tensorflow) (0.10.0)\n",
            "Requirement already satisfied, skipping upgrade: termcolor~=1.1.0 in /usr/local/lib/python3.6/dist-packages (from tensorflow) (1.1.0)\n",
            "Requirement already satisfied, skipping upgrade: wheel~=0.35 in /usr/local/lib/python3.6/dist-packages (from tensorflow) (0.36.2)\n",
            "Requirement already satisfied, skipping upgrade: tensorboard~=2.4 in /usr/local/lib/python3.6/dist-packages (from tensorflow) (2.4.1)\n",
            "Requirement already satisfied, skipping upgrade: six~=1.15.0 in /usr/local/lib/python3.6/dist-packages (from tensorflow) (1.15.0)\n",
            "Requirement already satisfied, skipping upgrade: protobuf>=3.9.2 in /usr/local/lib/python3.6/dist-packages (from tensorflow) (3.12.4)\n",
            "Requirement already satisfied, skipping upgrade: typing-extensions~=3.7.4 in /usr/local/lib/python3.6/dist-packages (from tensorflow) (3.7.4.3)\n",
            "Requirement already satisfied, skipping upgrade: astunparse~=1.6.3 in /usr/local/lib/python3.6/dist-packages (from tensorflow) (1.6.3)\n",
            "Requirement already satisfied, skipping upgrade: flatbuffers~=1.12.0 in /usr/local/lib/python3.6/dist-packages (from tensorflow) (1.12)\n",
            "Requirement already satisfied, skipping upgrade: google-pasta~=0.2 in /usr/local/lib/python3.6/dist-packages (from tensorflow) (0.2.0)\n",
            "Requirement already satisfied, skipping upgrade: h5py~=2.10.0 in /usr/local/lib/python3.6/dist-packages (from tensorflow) (2.10.0)\n",
            "Requirement already satisfied, skipping upgrade: gast==0.3.3 in /usr/local/lib/python3.6/dist-packages (from tensorflow) (0.3.3)\n",
            "Requirement already satisfied, skipping upgrade: keras-preprocessing~=1.1.2 in /usr/local/lib/python3.6/dist-packages (from tensorflow) (1.1.2)\n",
            "Requirement already satisfied, skipping upgrade: grpcio~=1.32.0 in /usr/local/lib/python3.6/dist-packages (from tensorflow) (1.32.0)\n",
            "Requirement already satisfied, skipping upgrade: tensorflow-estimator<2.5.0,>=2.4.0 in /usr/local/lib/python3.6/dist-packages (from tensorflow) (2.4.0)\n",
            "Requirement already satisfied, skipping upgrade: opt-einsum~=3.3.0 in /usr/local/lib/python3.6/dist-packages (from tensorflow) (3.3.0)\n",
            "Requirement already satisfied, skipping upgrade: numpy~=1.19.2 in /usr/local/lib/python3.6/dist-packages (from tensorflow) (1.19.5)\n",
            "Requirement already satisfied, skipping upgrade: werkzeug>=0.11.15 in /usr/local/lib/python3.6/dist-packages (from tensorboard~=2.4->tensorflow) (1.0.1)\n",
            "Requirement already satisfied, skipping upgrade: requests<3,>=2.21.0 in /usr/local/lib/python3.6/dist-packages (from tensorboard~=2.4->tensorflow) (2.23.0)\n",
            "Requirement already satisfied, skipping upgrade: google-auth<2,>=1.6.3 in /usr/local/lib/python3.6/dist-packages (from tensorboard~=2.4->tensorflow) (1.25.0)\n",
            "Requirement already satisfied, skipping upgrade: markdown>=2.6.8 in /usr/local/lib/python3.6/dist-packages (from tensorboard~=2.4->tensorflow) (3.3.3)\n",
            "Requirement already satisfied, skipping upgrade: tensorboard-plugin-wit>=1.6.0 in /usr/local/lib/python3.6/dist-packages (from tensorboard~=2.4->tensorflow) (1.8.0)\n",
            "Requirement already satisfied, skipping upgrade: setuptools>=41.0.0 in /usr/local/lib/python3.6/dist-packages (from tensorboard~=2.4->tensorflow) (53.0.0)\n",
            "Requirement already satisfied, skipping upgrade: google-auth-oauthlib<0.5,>=0.4.1 in /usr/local/lib/python3.6/dist-packages (from tensorboard~=2.4->tensorflow) (0.4.2)\n",
            "Requirement already satisfied, skipping upgrade: chardet<4,>=3.0.2 in /usr/local/lib/python3.6/dist-packages (from requests<3,>=2.21.0->tensorboard~=2.4->tensorflow) (3.0.4)\n",
            "Requirement already satisfied, skipping upgrade: urllib3!=1.25.0,!=1.25.1,<1.26,>=1.21.1 in /usr/local/lib/python3.6/dist-packages (from requests<3,>=2.21.0->tensorboard~=2.4->tensorflow) (1.24.3)\n",
            "Requirement already satisfied, skipping upgrade: idna<3,>=2.5 in /usr/local/lib/python3.6/dist-packages (from requests<3,>=2.21.0->tensorboard~=2.4->tensorflow) (2.10)\n",
            "Requirement already satisfied, skipping upgrade: certifi>=2017.4.17 in /usr/local/lib/python3.6/dist-packages (from requests<3,>=2.21.0->tensorboard~=2.4->tensorflow) (2020.12.5)\n",
            "Requirement already satisfied, skipping upgrade: pyasn1-modules>=0.2.1 in /usr/local/lib/python3.6/dist-packages (from google-auth<2,>=1.6.3->tensorboard~=2.4->tensorflow) (0.2.8)\n",
            "Requirement already satisfied, skipping upgrade: cachetools<5.0,>=2.0.0 in /usr/local/lib/python3.6/dist-packages (from google-auth<2,>=1.6.3->tensorboard~=2.4->tensorflow) (4.2.1)\n",
            "Requirement already satisfied, skipping upgrade: rsa<5,>=3.1.4; python_version >= \"3.6\" in /usr/local/lib/python3.6/dist-packages (from google-auth<2,>=1.6.3->tensorboard~=2.4->tensorflow) (4.7)\n",
            "Requirement already satisfied, skipping upgrade: importlib-metadata; python_version < \"3.8\" in /usr/local/lib/python3.6/dist-packages (from markdown>=2.6.8->tensorboard~=2.4->tensorflow) (3.4.0)\n",
            "Requirement already satisfied, skipping upgrade: requests-oauthlib>=0.7.0 in /usr/local/lib/python3.6/dist-packages (from google-auth-oauthlib<0.5,>=0.4.1->tensorboard~=2.4->tensorflow) (1.3.0)\n",
            "Requirement already satisfied, skipping upgrade: pyasn1<0.5.0,>=0.4.6 in /usr/local/lib/python3.6/dist-packages (from pyasn1-modules>=0.2.1->google-auth<2,>=1.6.3->tensorboard~=2.4->tensorflow) (0.4.8)\n",
            "Requirement already satisfied, skipping upgrade: zipp>=0.5 in /usr/local/lib/python3.6/dist-packages (from importlib-metadata; python_version < \"3.8\"->markdown>=2.6.8->tensorboard~=2.4->tensorflow) (3.4.0)\n",
            "Requirement already satisfied, skipping upgrade: oauthlib>=3.0.0 in /usr/local/lib/python3.6/dist-packages (from requests-oauthlib>=0.7.0->google-auth-oauthlib<0.5,>=0.4.1->tensorboard~=2.4->tensorflow) (3.1.0)\n",
            "Requirement already up-to-date: Keras in /usr/local/lib/python3.6/dist-packages (2.4.3)\n",
            "Requirement already satisfied, skipping upgrade: numpy>=1.9.1 in /usr/local/lib/python3.6/dist-packages (from Keras) (1.19.5)\n",
            "Requirement already satisfied, skipping upgrade: h5py in /usr/local/lib/python3.6/dist-packages (from Keras) (2.10.0)\n",
            "Requirement already satisfied, skipping upgrade: scipy>=0.14 in /usr/local/lib/python3.6/dist-packages (from Keras) (1.4.1)\n",
            "Requirement already satisfied, skipping upgrade: pyyaml in /usr/local/lib/python3.6/dist-packages (from Keras) (3.13)\n",
            "Requirement already satisfied, skipping upgrade: six in /usr/local/lib/python3.6/dist-packages (from h5py->Keras) (1.15.0)\n",
            "Requirement already satisfied: seaborn in /usr/local/lib/python3.6/dist-packages (0.11.1)\n",
            "Requirement already satisfied: matplotlib>=2.2 in /usr/local/lib/python3.6/dist-packages (from seaborn) (3.2.2)\n",
            "Requirement already satisfied: pandas>=0.23 in /usr/local/lib/python3.6/dist-packages (from seaborn) (1.1.5)\n",
            "Requirement already satisfied: scipy>=1.0 in /usr/local/lib/python3.6/dist-packages (from seaborn) (1.4.1)\n",
            "Requirement already satisfied: numpy>=1.15 in /usr/local/lib/python3.6/dist-packages (from seaborn) (1.19.5)\n",
            "Requirement already satisfied: python-dateutil>=2.1 in /usr/local/lib/python3.6/dist-packages (from matplotlib>=2.2->seaborn) (2.8.1)\n",
            "Requirement already satisfied: kiwisolver>=1.0.1 in /usr/local/lib/python3.6/dist-packages (from matplotlib>=2.2->seaborn) (1.3.1)\n",
            "Requirement already satisfied: cycler>=0.10 in /usr/local/lib/python3.6/dist-packages (from matplotlib>=2.2->seaborn) (0.10.0)\n",
            "Requirement already satisfied: pyparsing!=2.0.4,!=2.1.2,!=2.1.6,>=2.0.1 in /usr/local/lib/python3.6/dist-packages (from matplotlib>=2.2->seaborn) (2.4.7)\n",
            "Requirement already satisfied: pytz>=2017.2 in /usr/local/lib/python3.6/dist-packages (from pandas>=0.23->seaborn) (2018.9)\n",
            "Requirement already satisfied: six>=1.5 in /usr/local/lib/python3.6/dist-packages (from python-dateutil>=2.1->matplotlib>=2.2->seaborn) (1.15.0)\n"
          ],
          "name": "stdout"
        }
      ]
    },
    {
      "cell_type": "markdown",
      "metadata": {
        "id": "j6_4_xqdSV4b"
      },
      "source": [
        "##All the Imports"
      ]
    },
    {
      "cell_type": "code",
      "metadata": {
        "id": "3jhS-UN-SZ6z"
      },
      "source": [
        "import re\n",
        "import nltk \n",
        "from nltk.stem import WordNetLemmatizer\n",
        "from nltk.corpus import stopwords\n",
        "from absl import logging\n",
        "import tensorflow as tf\n",
        "import tensorflow_hub as hub\n",
        "import matplotlib.pyplot as plt\n",
        "import numpy as np\n",
        "import os\n",
        "import pandas as pd\n",
        "import re\n",
        "import seaborn as sns\n",
        "from sklearn.model_selection import train_test_split\n",
        "from keras.utils.np_utils import to_categorical\n",
        "\n",
        "from keras.preprocessing.text import Tokenizer\n",
        "from keras.preprocessing.sequence import pad_sequences\n",
        "\n",
        "from gensim.models.wrappers import FastText\n",
        "\n",
        "import numpy as np\n",
        "from tqdm import tqdm\n",
        "\n",
        "from keras import backend as K\n",
        "from keras import initializers, regularizers, constraints\n",
        "#from keras.layers.core import Layer\n",
        "from keras.layers import Layer\n",
        "import warnings\n",
        "import sklearn.exceptions\n",
        "warnings.filterwarnings(\"ignore\", category=sklearn.exceptions.UndefinedMetricWarning)\n",
        "warnings.simplefilter(action='ignore', category=FutureWarning)\n",
        "\n",
        "from keras.callbacks import ModelCheckpoint, EarlyStopping\n",
        "from keras.models import Sequential\n",
        "from keras.layers import Dense, Dropout, Bidirectional, Embedding, GRU, Flatten, Input\n",
        "from keras.optimizers import Adam, SGD\n",
        "from keras.models import Model\n",
        "\n",
        "from sklearn.metrics import f1_score, confusion_matrix, classification_report, accuracy_score, roc_curve, roc_auc_score\n",
        "from sklearn import metrics\n",
        "\n",
        "from sklearn.dummy import DummyClassifier\n",
        "\n",
        "from sklearn.utils import resample"
      ],
      "execution_count": 2,
      "outputs": []
    },
    {
      "cell_type": "markdown",
      "metadata": {
        "id": "jLRh0elnUUJg"
      },
      "source": [
        "##Download Embedings"
      ]
    },
    {
      "cell_type": "code",
      "metadata": {
        "id": "TQhJzrGW1TR1",
        "colab": {
          "base_uri": "https://localhost:8080/"
        },
        "outputId": "ddc54a43-7df5-4f85-9340-ebc7b748744c"
      },
      "source": [
        "!wget https://dl.fbaipublicfiles.com/fasttext/vectors-crawl/cc.en.300.bin.gz\n",
        "!gzip -d cc.en.300.bin.gz"
      ],
      "execution_count": 3,
      "outputs": [
        {
          "output_type": "stream",
          "text": [
            "--2021-02-15 08:08:30--  https://dl.fbaipublicfiles.com/fasttext/vectors-crawl/cc.en.300.bin.gz\n",
            "Resolving dl.fbaipublicfiles.com (dl.fbaipublicfiles.com)... 172.67.9.4, 104.22.74.142, 104.22.75.142, ...\n",
            "Connecting to dl.fbaipublicfiles.com (dl.fbaipublicfiles.com)|172.67.9.4|:443... connected.\n",
            "HTTP request sent, awaiting response... 200 OK\n",
            "Length: 4503593528 (4.2G) [application/octet-stream]\n",
            "Saving to: ‘cc.en.300.bin.gz’\n",
            "\n",
            "cc.en.300.bin.gz    100%[===================>]   4.19G  52.2MB/s    in 80s     \n",
            "\n",
            "2021-02-15 08:09:50 (53.9 MB/s) - ‘cc.en.300.bin.gz’ saved [4503593528/4503593528]\n",
            "\n"
          ],
          "name": "stdout"
        }
      ]
    },
    {
      "cell_type": "code",
      "metadata": {
        "id": "vqtwL9d91U29"
      },
      "source": [
        "fasttext = FastText.load_fasttext_format('cc.en.300.bin')"
      ],
      "execution_count": 4,
      "outputs": []
    },
    {
      "cell_type": "markdown",
      "metadata": {
        "id": "GzfV4yeQUzNe"
      },
      "source": [
        "##Load Dataset"
      ]
    },
    {
      "cell_type": "code",
      "metadata": {
        "id": "Zjb9RVkmqn1A",
        "colab": {
          "base_uri": "https://localhost:8080/",
          "height": 244
        },
        "outputId": "a0d3fecb-4fb2-4af7-92e0-61fa68bae5de"
      },
      "source": [
        "def load_directory_data(directory):\n",
        "  data = {}\n",
        "  data[\"sentence\"] = []\n",
        "  data[\"sentiment\"] = []\n",
        "  for file_path in os.listdir(directory):\n",
        "    with tf.io.gfile.GFile(os.path.join(directory, file_path), \"r\") as f:\n",
        "      data[\"sentence\"].append(f.read())\n",
        "      data[\"sentiment\"].append(re.match(\"\\d+_(\\d+)\\.txt\", file_path).group(1))\n",
        "  return pd.DataFrame.from_dict(data)\n",
        "\n",
        "def load_dataset(directory):\n",
        "  pos_df = load_directory_data(os.path.join(directory, \"pos\"))\n",
        "  neg_df = load_directory_data(os.path.join(directory, \"neg\"))\n",
        "  pos_df[\"polarity\"] = 1\n",
        "  neg_df[\"polarity\"] = 0\n",
        "  return pd.concat([pos_df, neg_df]).sample(frac=1).reset_index(drop=True)\n",
        "\n",
        "def download_and_load_datasets(force_download=False):\n",
        "  dataset = tf.keras.utils.get_file(\n",
        "      fname=\"aclImdb.tar.gz\", \n",
        "      origin=\"http://ai.stanford.edu/~amaas/data/sentiment/aclImdb_v1.tar.gz\", \n",
        "      extract=True)\n",
        "  \n",
        "  train_df = load_dataset(os.path.join(os.path.dirname(dataset), \n",
        "                                       \"aclImdb\", \"train\"))\n",
        "  test_df = load_dataset(os.path.join(os.path.dirname(dataset), \n",
        "                                      \"aclImdb\", \"test\"))\n",
        "  \n",
        "  return train_df, test_df\n",
        "  \n",
        "logging.set_verbosity(logging.ERROR)\n",
        "\n",
        "train_df, test_df = download_and_load_datasets()\n",
        "train_df.head()"
      ],
      "execution_count": 5,
      "outputs": [
        {
          "output_type": "stream",
          "text": [
            "Downloading data from http://ai.stanford.edu/~amaas/data/sentiment/aclImdb_v1.tar.gz\n",
            "84131840/84125825 [==============================] - 2s 0us/step\n"
          ],
          "name": "stdout"
        },
        {
          "output_type": "execute_result",
          "data": {
            "text/html": [
              "<div>\n",
              "<style scoped>\n",
              "    .dataframe tbody tr th:only-of-type {\n",
              "        vertical-align: middle;\n",
              "    }\n",
              "\n",
              "    .dataframe tbody tr th {\n",
              "        vertical-align: top;\n",
              "    }\n",
              "\n",
              "    .dataframe thead th {\n",
              "        text-align: right;\n",
              "    }\n",
              "</style>\n",
              "<table border=\"1\" class=\"dataframe\">\n",
              "  <thead>\n",
              "    <tr style=\"text-align: right;\">\n",
              "      <th></th>\n",
              "      <th>sentence</th>\n",
              "      <th>sentiment</th>\n",
              "      <th>polarity</th>\n",
              "    </tr>\n",
              "  </thead>\n",
              "  <tbody>\n",
              "    <tr>\n",
              "      <th>0</th>\n",
              "      <td>Talk about a blast opening, \"Trampa Infernal\" ...</td>\n",
              "      <td>7</td>\n",
              "      <td>1</td>\n",
              "    </tr>\n",
              "    <tr>\n",
              "      <th>1</th>\n",
              "      <td>I really wanted to like this film, but so much...</td>\n",
              "      <td>3</td>\n",
              "      <td>0</td>\n",
              "    </tr>\n",
              "    <tr>\n",
              "      <th>2</th>\n",
              "      <td>Extremely well-conceived - part whatever happe...</td>\n",
              "      <td>9</td>\n",
              "      <td>1</td>\n",
              "    </tr>\n",
              "    <tr>\n",
              "      <th>3</th>\n",
              "      <td>Caught this film in about 1990 on video by cha...</td>\n",
              "      <td>10</td>\n",
              "      <td>1</td>\n",
              "    </tr>\n",
              "    <tr>\n",
              "      <th>4</th>\n",
              "      <td>Soylent Green IS...a really good movie, actual...</td>\n",
              "      <td>10</td>\n",
              "      <td>1</td>\n",
              "    </tr>\n",
              "  </tbody>\n",
              "</table>\n",
              "</div>"
            ],
            "text/plain": [
              "                                            sentence sentiment  polarity\n",
              "0  Talk about a blast opening, \"Trampa Infernal\" ...         7         1\n",
              "1  I really wanted to like this film, but so much...         3         0\n",
              "2  Extremely well-conceived - part whatever happe...         9         1\n",
              "3  Caught this film in about 1990 on video by cha...        10         1\n",
              "4  Soylent Green IS...a really good movie, actual...        10         1"
            ]
          },
          "metadata": {
            "tags": []
          },
          "execution_count": 5
        }
      ]
    },
    {
      "cell_type": "markdown",
      "metadata": {
        "id": "2UMnT4bEU5TA"
      },
      "source": [
        "Processing Dataset"
      ]
    },
    {
      "cell_type": "code",
      "metadata": {
        "id": "mGyZVzIyYUdD",
        "colab": {
          "base_uri": "https://localhost:8080/"
        },
        "outputId": "8b322ef2-6ef7-4904-fd25-d7fb3d06f51e"
      },
      "source": [
        "nltk.download('stopwords')\n",
        "nltk.download('wordnet')\n",
        "\n",
        "stop_words = set(stopwords.words(\"english\")) \n",
        "lemmatizer = WordNetLemmatizer()\n",
        "\n",
        "def clean_text(text):\n",
        "    text = re.sub(r'[^\\w\\s]','',text, re.UNICODE)\n",
        "    text = text.lower()\n",
        "    text = [lemmatizer.lemmatize(token) for token in text.split(\" \")]\n",
        "    text = [lemmatizer.lemmatize(token, \"v\") for token in text]\n",
        "    text = [word for word in text if not word in stop_words]\n",
        "    text = \" \".join(text)\n",
        "    return text"
      ],
      "execution_count": 6,
      "outputs": [
        {
          "output_type": "stream",
          "text": [
            "[nltk_data] Downloading package stopwords to /root/nltk_data...\n",
            "[nltk_data]   Unzipping corpora/stopwords.zip.\n",
            "[nltk_data] Downloading package wordnet to /root/nltk_data...\n",
            "[nltk_data]   Unzipping corpora/wordnet.zip.\n"
          ],
          "name": "stdout"
        }
      ]
    },
    {
      "cell_type": "code",
      "metadata": {
        "id": "QiMYnFg6YaGm"
      },
      "source": [
        "train_df['Processed_Reviews'] = train_df.sentence.apply(lambda x: clean_text(x))\n",
        "test_df['Processed_Reviews'] = test_df.sentence.apply(lambda x: clean_text(x))"
      ],
      "execution_count": 7,
      "outputs": []
    },
    {
      "cell_type": "code",
      "metadata": {
        "id": "RgmRXUVrzp6Y"
      },
      "source": [
        "Reviews_train=train_df['Processed_Reviews'].to_numpy()\n",
        "Labels_train=train_df['polarity'].to_numpy()\n",
        "Reviews_test=test_df['Processed_Reviews'].to_numpy()\n",
        "Labels_test=test_df['polarity'].to_numpy()"
      ],
      "execution_count": 8,
      "outputs": []
    },
    {
      "cell_type": "markdown",
      "metadata": {
        "id": "-n7fPe8cYBv6"
      },
      "source": [
        "Split the Dataset into Train, Test and Validation Sets"
      ]
    },
    {
      "cell_type": "code",
      "metadata": {
        "id": "kdbvScgLvk18"
      },
      "source": [
        "Reviews_val, Reviews_test, Labels_val, Labels_test = train_test_split(Reviews_test, Labels_test, test_size=0.4, random_state=1)"
      ],
      "execution_count": 9,
      "outputs": []
    },
    {
      "cell_type": "code",
      "metadata": {
        "id": "WB_wuABt0geD",
        "colab": {
          "base_uri": "https://localhost:8080/"
        },
        "outputId": "8267bca4-1927-48b5-b259-529e41603f78"
      },
      "source": [
        "print(\"Train Data =\",len(Reviews_train),len(Labels_train))\n",
        "print(\"Test Data =\",len(Reviews_test),len(Labels_test))\n",
        "print(\"Validation Data =\",len(Reviews_val),len(Labels_val))"
      ],
      "execution_count": 10,
      "outputs": [
        {
          "output_type": "stream",
          "text": [
            "Train Data = 25000 25000\n",
            "Test Data = 10000 10000\n",
            "Validation Data = 15000 15000\n"
          ],
          "name": "stdout"
        }
      ]
    },
    {
      "cell_type": "markdown",
      "metadata": {
        "id": "RnoGSvUvTA2-"
      },
      "source": [
        "The average for max_length"
      ]
    },
    {
      "cell_type": "code",
      "metadata": {
        "id": "e7idt1ETS6jX",
        "colab": {
          "base_uri": "https://localhost:8080/"
        },
        "outputId": "4bee9f4d-eb38-42c0-d665-07f8282ce7a1"
      },
      "source": [
        "print(train_df.Processed_Reviews.apply(lambda x: len(x.split(\" \"))).mean())"
      ],
      "execution_count": 11,
      "outputs": [
        {
          "output_type": "stream",
          "text": [
            "129.47972\n"
          ],
          "name": "stdout"
        }
      ]
    },
    {
      "cell_type": "code",
      "metadata": {
        "id": "DvuFDw9f1LCz"
      },
      "source": [
        "vocab = 10000 + 1\n",
        "max_length = 130\n",
        "\n",
        "tokenizer = Tokenizer(num_words=vocab, oov_token='__UNK__')\n",
        "tokenizer.fit_on_texts(Reviews_train)\n",
        "\n",
        "Reviews_train_seqs = tokenizer.texts_to_sequences(Reviews_train)\n",
        "Reviews_val_seqs = tokenizer.texts_to_sequences(Reviews_val)\n",
        "Reviews_test_seqs = tokenizer.texts_to_sequences(Reviews_test)\n",
        "\n",
        "Reviews_train = pad_sequences(Reviews_train_seqs, maxlen=max_length,padding='post')\n",
        "Reviews_val = pad_sequences(Reviews_val_seqs, maxlen=max_length, padding='post')\n",
        "Reviews_test = pad_sequences(Reviews_test_seqs, maxlen=max_length, padding='post')"
      ],
      "execution_count": 12,
      "outputs": []
    },
    {
      "cell_type": "code",
      "metadata": {
        "id": "ZS4ZusBd1MgE",
        "colab": {
          "base_uri": "https://localhost:8080/"
        },
        "outputId": "1258cfd8-7d57-46e6-c318-868eeebc5aaa"
      },
      "source": [
        "word_index = tokenizer.word_index\n",
        "print('Found %s unique tokens.' % len(word_index))"
      ],
      "execution_count": 13,
      "outputs": [
        {
          "output_type": "stream",
          "text": [
            "Found 103446 unique tokens.\n"
          ],
          "name": "stdout"
        }
      ]
    },
    {
      "cell_type": "code",
      "metadata": {
        "id": "ioPQhFTm1WS8",
        "colab": {
          "base_uri": "https://localhost:8080/"
        },
        "outputId": "3a37865a-a8f9-4d81-b835-5ffb3284b7cf"
      },
      "source": [
        "vocab_words = list(word_index.keys())[:10000]\n",
        "\n",
        "embedding_dim = fasttext.vector_size\n",
        "\n",
        "embedding_matrix = np.zeros((vocab, embedding_dim))\n",
        "\n",
        "for word in tqdm(vocab_words):\n",
        "  try:\n",
        "    index = word_index[word]\n",
        "    embedding_matrix[index] = fasttext[word]\n",
        "  except:\n",
        "    pass"
      ],
      "execution_count": 14,
      "outputs": [
        {
          "output_type": "stream",
          "text": [
            "100%|██████████| 10000/10000 [00:00<00:00, 174668.05it/s]\n"
          ],
          "name": "stderr"
        }
      ]
    },
    {
      "cell_type": "code",
      "metadata": {
        "id": "yt5ThMce1eQl"
      },
      "source": [
        "np.save(\"embedding_matrix.npy\", embedding_matrix, allow_pickle=True)"
      ],
      "execution_count": 15,
      "outputs": []
    },
    {
      "cell_type": "code",
      "metadata": {
        "id": "NQvjx_gOpIyi"
      },
      "source": [
        "def dot_product(x, kernel):\n",
        "  \n",
        "    if K.backend() == 'tensorflow':\n",
        "        return K.squeeze(K.dot(x, K.expand_dims(kernel)), axis=-1)\n",
        "    else:\n",
        "        return K.dot(x, kernel)\n",
        "\n",
        "\n",
        "class DeepAttention(Layer):\n",
        "    def __init__(self,\n",
        "                 kernel_regularizer=None, u_regularizer=None, bias_regularizer=None,\n",
        "                 W_constraint=None, u_constraint=None, b_constraint=None,\n",
        "                 bias=True,\n",
        "                 return_attention=False,\n",
        "                 **kwargs):\n",
        "\n",
        "        self.supports_masking = True\n",
        "        self.init = initializers.get('glorot_uniform')\n",
        "\n",
        "        self.W_regularizer = regularizers.get(kernel_regularizer)\n",
        "        self.u_regularizer = regularizers.get(u_regularizer)\n",
        "        self.b1_regularizer = regularizers.get(bias_regularizer)\n",
        "        self.b2_regularizer = regularizers.get(bias_regularizer)\n",
        "\n",
        "        self.W_constraint = constraints.get(W_constraint)\n",
        "        self.u_constraint = constraints.get(u_constraint)\n",
        "        self.b1_constraint = constraints.get(b_constraint)\n",
        "        self.b2_constraint = constraints.get(b_constraint)\n",
        "\n",
        "        self.bias = bias\n",
        "        self.return_attention = return_attention\n",
        "        super(DeepAttention, self).__init__(**kwargs)\n",
        "\n",
        "    def build(self, input_shape):\n",
        "        assert len(input_shape) == 3\n",
        "\n",
        "        self.W = self.add_weight(shape=(input_shape[-1], input_shape[-1],),\n",
        "                                 initializer=self.init,\n",
        "                                 name='{}_W'.format(self.name),\n",
        "                                 regularizer=self.W_regularizer,\n",
        "                                 constraint=self.W_constraint)\n",
        "        \n",
        "\n",
        "        if self.bias:\n",
        "            self.b1 = self.add_weight(shape=(input_shape[-1],),\n",
        "                                     initializer='zero',\n",
        "                                     name='{}_b1'.format(self.name),\n",
        "                                     regularizer=self.b1_regularizer,\n",
        "                                     constraint=self.b1_constraint)\n",
        "            self.b2 = self.add_weight(shape=(1,),\n",
        "                                     initializer='zero',\n",
        "                                     name='{}_b2'.format(self.name),\n",
        "                                     regularizer=self.b2_regularizer,\n",
        "                                     constraint=self.b2_constraint)\n",
        "        else:\n",
        "            self.b1 = None\n",
        "            self.b2 = None\n",
        "\n",
        "        self.u = self.add_weight(shape=(input_shape[-1],),\n",
        "                                 initializer=self.init,\n",
        "                                 name='{}_u'.format(self.name),\n",
        "                                 regularizer=self.u_regularizer,\n",
        "                                 constraint=self.u_constraint)\n",
        "\n",
        "        self.built = True\n",
        "\n",
        "\n",
        "    def compute_mask(self, inputs, mask=None):\n",
        "        # do not pass the mask to the next layers\n",
        "        if self.return_attention:\n",
        "            return [None, None]\n",
        "        return None\n",
        "\n",
        "    def call(self, x, mask=None):\n",
        "        # uit = tanh(Wx + b)\n",
        "        uit = dot_product(x, self.W)\n",
        "\n",
        "        if self.bias:\n",
        "            uit += self.b1\n",
        "\n",
        "        uit = K.tanh(uit)\n",
        "\n",
        "        # ait = softmax(Ueij)\n",
        "        eij = dot_product(uit, self.u)\n",
        "        if self.bias:\n",
        "            eij += self.b2\n",
        "\n",
        "        # Apply mask\n",
        "        if mask is not None:\n",
        "            eij *= K.cast(mask, K.floatx())\n",
        "\n",
        "        a = K.expand_dims(K.softmax(eij, axis=-1))\n",
        "        \n",
        "        weighted_input = x * a\n",
        "        result = K.sum(weighted_input, axis=1)\n",
        "\n",
        "        if self.return_attention:\n",
        "            return [result, a]\n",
        "        return result\n",
        "\n",
        "    def compute_output_shape(self, input_shape):\n",
        "        if self.return_attention:\n",
        "            return [(input_shape[0], input_shape[-1]),\n",
        "                    (input_shape[0], input_shape[1])]\n",
        "        else:\n",
        "            return input_shape[0], input_shape[-1]"
      ],
      "execution_count": 16,
      "outputs": []
    },
    {
      "cell_type": "markdown",
      "metadata": {
        "id": "iwuU7YSKJ97u"
      },
      "source": [
        "# RNN Model with Deep Attention"
      ]
    },
    {
      "cell_type": "code",
      "metadata": {
        "id": "JNfVbsrE1fec",
        "colab": {
          "base_uri": "https://localhost:8080/"
        },
        "outputId": "6f84f10a-498d-4386-b1bf-8d253b8ae690"
      },
      "source": [
        "GRU_SIZE = 100\n",
        "DENSE = 200\n",
        "N_CLASSES = 1\n",
        "\n",
        "inputs = Input((max_length,))\n",
        "embeddings = Embedding(vocab,embedding_dim, weights=[embedding_matrix], \n",
        "             input_length=max_length, mask_zero=True, trainable=True)(inputs)\n",
        "dropout = Dropout(0.5)(embeddings)\n",
        "bidirectional = Bidirectional(GRU(units=GRU_SIZE, return_sequences=True,recurrent_dropout = 0.2))(dropout)\n",
        "bidirectional = Bidirectional(GRU(units=GRU_SIZE, return_sequences=True,recurrent_dropout = 0.2))(bidirectional)\n",
        "x, attn = DeepAttention(return_attention=True)(bidirectional)\n",
        "out = Dense(units=DENSE, activation=\"relu\")(x) \n",
        "out = Dense(units=N_CLASSES, activation=\"sigmoid\")(out)\n",
        "modelRNN = Model(inputs, out)\n",
        "adam = Adam(lr=0.0001, decay=1e-6)\n",
        "\n",
        "print(modelRNN.summary())\n",
        "sgd = SGD(lr=0.01, decay=1e-6, momentum=0.9, nesterov=True)\n",
        "modelRNN.compile(loss='binary_crossentropy',\n",
        "                  optimizer=adam,\n",
        "                  metrics=[\"accuracy\"])\n",
        "\n",
        "checkpoint = ModelCheckpoint('keras_BiGRU_model.hdf6', monitor='val_loss', verbose=1, save_best_only=True, mode='min')\n",
        "\n",
        "early_stopping = EarlyStopping(monitor='val_loss', patience=3, restore_best_weights=True)\n"
      ],
      "execution_count": 17,
      "outputs": [
        {
          "output_type": "stream",
          "text": [
            "WARNING:tensorflow:Layer gru will not use cuDNN kernel since it doesn't meet the cuDNN kernel criteria. It will use generic GPU kernel as fallback when running on GPU\n",
            "WARNING:tensorflow:Layer gru will not use cuDNN kernel since it doesn't meet the cuDNN kernel criteria. It will use generic GPU kernel as fallback when running on GPU\n",
            "WARNING:tensorflow:Layer gru will not use cuDNN kernel since it doesn't meet the cuDNN kernel criteria. It will use generic GPU kernel as fallback when running on GPU\n",
            "WARNING:tensorflow:Layer gru_1 will not use cuDNN kernel since it doesn't meet the cuDNN kernel criteria. It will use generic GPU kernel as fallback when running on GPU\n",
            "WARNING:tensorflow:Layer gru_1 will not use cuDNN kernel since it doesn't meet the cuDNN kernel criteria. It will use generic GPU kernel as fallback when running on GPU\n",
            "WARNING:tensorflow:Layer gru_1 will not use cuDNN kernel since it doesn't meet the cuDNN kernel criteria. It will use generic GPU kernel as fallback when running on GPU\n",
            "Model: \"model\"\n",
            "_________________________________________________________________\n",
            "Layer (type)                 Output Shape              Param #   \n",
            "=================================================================\n",
            "input_1 (InputLayer)         [(None, 130)]             0         \n",
            "_________________________________________________________________\n",
            "embedding (Embedding)        (None, 130, 300)          3000300   \n",
            "_________________________________________________________________\n",
            "dropout (Dropout)            (None, 130, 300)          0         \n",
            "_________________________________________________________________\n",
            "bidirectional (Bidirectional (None, 130, 200)          241200    \n",
            "_________________________________________________________________\n",
            "bidirectional_1 (Bidirection (None, 130, 200)          181200    \n",
            "_________________________________________________________________\n",
            "deep_attention (DeepAttentio [(None, 200), (None, 130, 40401     \n",
            "_________________________________________________________________\n",
            "dense (Dense)                (None, 200)               40200     \n",
            "_________________________________________________________________\n",
            "dense_1 (Dense)              (None, 1)                 201       \n",
            "=================================================================\n",
            "Total params: 3,503,502\n",
            "Trainable params: 3,503,502\n",
            "Non-trainable params: 0\n",
            "_________________________________________________________________\n",
            "None\n"
          ],
          "name": "stdout"
        }
      ]
    },
    {
      "cell_type": "markdown",
      "metadata": {
        "id": "5ZbNK7C6O6mN"
      },
      "source": [
        "Fit the RNN Deep Attention Model"
      ]
    },
    {
      "cell_type": "code",
      "metadata": {
        "id": "u4Rkh3YhOpb0",
        "colab": {
          "base_uri": "https://localhost:8080/"
        },
        "outputId": "686b5281-1450-4469-f121-a47680348fbb"
      },
      "source": [
        "history = modelRNN.fit(Reviews_train,Labels_train,\n",
        "                       batch_size=500,\n",
        "                       epochs=15,\n",
        "                       verbose = 1,\n",
        "                       callbacks=[checkpoint, early_stopping],\n",
        "                       validation_data=(Reviews_val, Labels_val))"
      ],
      "execution_count": 18,
      "outputs": [
        {
          "output_type": "stream",
          "text": [
            "Epoch 1/15\n",
            "50/50 [==============================] - 42s 684ms/step - loss: 0.6890 - accuracy: 0.5202 - val_loss: 0.6605 - val_accuracy: 0.7104\n",
            "\n",
            "Epoch 00001: val_loss improved from inf to 0.66054, saving model to keras_BiGRU_model.hdf6\n",
            "INFO:tensorflow:Assets written to: keras_BiGRU_model.hdf6/assets\n",
            "Epoch 2/15\n",
            "50/50 [==============================] - 33s 668ms/step - loss: 0.6194 - accuracy: 0.7292 - val_loss: 0.4390 - val_accuracy: 0.8028\n",
            "\n",
            "Epoch 00002: val_loss improved from 0.66054 to 0.43896, saving model to keras_BiGRU_model.hdf6\n",
            "INFO:tensorflow:Assets written to: keras_BiGRU_model.hdf6/assets\n",
            "Epoch 3/15\n",
            "50/50 [==============================] - 33s 654ms/step - loss: 0.4128 - accuracy: 0.8150 - val_loss: 0.3564 - val_accuracy: 0.8447\n",
            "\n",
            "Epoch 00003: val_loss improved from 0.43896 to 0.35643, saving model to keras_BiGRU_model.hdf6\n",
            "INFO:tensorflow:Assets written to: keras_BiGRU_model.hdf6/assets\n",
            "Epoch 4/15\n",
            "50/50 [==============================] - 33s 656ms/step - loss: 0.3419 - accuracy: 0.8526 - val_loss: 0.3392 - val_accuracy: 0.8544\n",
            "\n",
            "Epoch 00004: val_loss improved from 0.35643 to 0.33920, saving model to keras_BiGRU_model.hdf6\n",
            "INFO:tensorflow:Assets written to: keras_BiGRU_model.hdf6/assets\n",
            "Epoch 5/15\n",
            "50/50 [==============================] - 32s 651ms/step - loss: 0.3025 - accuracy: 0.8719 - val_loss: 0.3172 - val_accuracy: 0.8647\n",
            "\n",
            "Epoch 00005: val_loss improved from 0.33920 to 0.31720, saving model to keras_BiGRU_model.hdf6\n",
            "INFO:tensorflow:Assets written to: keras_BiGRU_model.hdf6/assets\n",
            "Epoch 6/15\n",
            "50/50 [==============================] - 33s 653ms/step - loss: 0.2930 - accuracy: 0.8778 - val_loss: 0.3075 - val_accuracy: 0.8717\n",
            "\n",
            "Epoch 00006: val_loss improved from 0.31720 to 0.30751, saving model to keras_BiGRU_model.hdf6\n",
            "INFO:tensorflow:Assets written to: keras_BiGRU_model.hdf6/assets\n",
            "Epoch 7/15\n",
            "50/50 [==============================] - 33s 657ms/step - loss: 0.2653 - accuracy: 0.8937 - val_loss: 0.3014 - val_accuracy: 0.8746\n",
            "\n",
            "Epoch 00007: val_loss improved from 0.30751 to 0.30141, saving model to keras_BiGRU_model.hdf6\n",
            "INFO:tensorflow:Assets written to: keras_BiGRU_model.hdf6/assets\n",
            "Epoch 8/15\n",
            "50/50 [==============================] - 33s 662ms/step - loss: 0.2482 - accuracy: 0.8998 - val_loss: 0.3110 - val_accuracy: 0.8705\n",
            "\n",
            "Epoch 00008: val_loss did not improve from 0.30141\n",
            "Epoch 9/15\n",
            "50/50 [==============================] - 33s 658ms/step - loss: 0.2467 - accuracy: 0.9004 - val_loss: 0.3002 - val_accuracy: 0.8773\n",
            "\n",
            "Epoch 00009: val_loss improved from 0.30141 to 0.30016, saving model to keras_BiGRU_model.hdf6\n",
            "INFO:tensorflow:Assets written to: keras_BiGRU_model.hdf6/assets\n",
            "Epoch 10/15\n",
            "50/50 [==============================] - 33s 670ms/step - loss: 0.2259 - accuracy: 0.9134 - val_loss: 0.2988 - val_accuracy: 0.8767\n",
            "\n",
            "Epoch 00010: val_loss improved from 0.30016 to 0.29881, saving model to keras_BiGRU_model.hdf6\n",
            "INFO:tensorflow:Assets written to: keras_BiGRU_model.hdf6/assets\n",
            "Epoch 11/15\n",
            "50/50 [==============================] - 33s 661ms/step - loss: 0.2136 - accuracy: 0.9155 - val_loss: 0.3199 - val_accuracy: 0.8667\n",
            "\n",
            "Epoch 00011: val_loss did not improve from 0.29881\n",
            "Epoch 12/15\n",
            "50/50 [==============================] - 33s 659ms/step - loss: 0.2100 - accuracy: 0.9160 - val_loss: 0.3109 - val_accuracy: 0.8713\n",
            "\n",
            "Epoch 00012: val_loss did not improve from 0.29881\n",
            "Epoch 13/15\n",
            "50/50 [==============================] - 33s 661ms/step - loss: 0.2045 - accuracy: 0.9226 - val_loss: 0.3076 - val_accuracy: 0.8758\n",
            "\n",
            "Epoch 00013: val_loss did not improve from 0.29881\n"
          ],
          "name": "stdout"
        }
      ]
    },
    {
      "cell_type": "code",
      "metadata": {
        "id": "sPPF_G0NC2_1",
        "colab": {
          "base_uri": "https://localhost:8080/"
        },
        "outputId": "badb4a15-1a91-4cc7-bded-ab9d138ad50d"
      },
      "source": [
        "print(\"Evaluating... \")\n",
        "print('Training data:', flush=True)\n",
        "loss, acc = modelRNN.evaluate(Reviews_train, Labels_train, verbose=1)\n",
        "print(\"  Train: loss %.3f - acc %.3f\" % (loss, acc))\n",
        "print('Cross-validation data:', flush=True)\n",
        "loss, acc = modelRNN.evaluate(Reviews_val, Labels_val, verbose=1)\n",
        "print(\"  Cross-val: loss %.3f - acc %.3f\" % (loss, acc))\n",
        "print('Test data:', flush=True)\n",
        "loss, acc = modelRNN.evaluate(Reviews_test, Labels_test, verbose=1)\n",
        "print(\"  Test: loss %.3f - acc %.3f\" % (loss, acc))"
      ],
      "execution_count": 19,
      "outputs": [
        {
          "output_type": "stream",
          "text": [
            "Evaluating... \n",
            "Training data:\n",
            "782/782 [==============================] - 98s 124ms/step - loss: 0.1852 - accuracy: 0.9324\n",
            "  Train: loss 0.185 - acc 0.932\n",
            "Cross-validation data:\n",
            "469/469 [==============================] - 59s 125ms/step - loss: 0.2988 - accuracy: 0.8767\n",
            "  Cross-val: loss 0.299 - acc 0.877\n",
            "Test data:\n",
            "313/313 [==============================] - 39s 125ms/step - loss: 0.3051 - accuracy: 0.8756\n",
            "  Test: loss 0.305 - acc 0.876\n"
          ],
          "name": "stdout"
        }
      ]
    },
    {
      "cell_type": "markdown",
      "metadata": {
        "id": "rHo4Y5HKNxde"
      },
      "source": [
        "Visualize Model Training History"
      ]
    },
    {
      "cell_type": "code",
      "metadata": {
        "id": "SeEU7gy-NuzL",
        "colab": {
          "base_uri": "https://localhost:8080/",
          "height": 573
        },
        "outputId": "59368f8e-2c8e-479f-a55a-1c1a1c7a0c93"
      },
      "source": [
        "%matplotlib inline\n",
        "import matplotlib.pyplot as plt\n",
        "plt.plot(history.history['loss'])\n",
        "plt.plot(history.history['val_loss'])\n",
        "plt.title('model loss')\n",
        "plt.ylabel('loss')\n",
        "plt.xlabel('epoch')\n",
        "plt.legend(['train', 'dev'], loc='upper right')\n",
        "plt.show()\n",
        "\n",
        "plt.plot(history.history['accuracy'])\n",
        "plt.plot(history.history['val_accuracy'])\n",
        "plt.title('model accuracy')\n",
        "plt.ylabel('accuracy')\n",
        "plt.xlabel('epoch')\n",
        "plt.legend(['train', 'dev'], loc='upper right')\n",
        "plt.show()"
      ],
      "execution_count": 20,
      "outputs": [
        {
          "output_type": "display_data",
          "data": {
            "image/png": "[encoded data removed]",
            "text/plain": [
              "<Figure size 432x288 with 1 Axes>"
            ]
          },
          "metadata": {
            "tags": [],
            "needs_background": "light"
          }
        },
        {
          "output_type": "display_data",
          "data": {
            "image/png": "[encoded data removed]",
            "text/plain": [
              "<Figure size 432x288 with 1 Axes>"
            ]
          },
          "metadata": {
            "tags": [],
            "needs_background": "light"
          }
        }
      ]
    },
    {
      "cell_type": "markdown",
      "metadata": {
        "id": "Q9FG-eqUHUTH"
      },
      "source": [
        "## Final Evaluate Performance on Train, Validation and Test \n"
      ]
    },
    {
      "cell_type": "code",
      "metadata": {
        "id": "dNU0BmCSHLNC",
        "colab": {
          "base_uri": "https://localhost:8080/"
        },
        "outputId": "a6700aa9-929a-428e-a11b-c445cf00136a"
      },
      "source": [
        "Reviews_train_prob = modelRNN.predict(Reviews_train, batch_size=32, verbose=0)\n",
        "Reviews_val_prob = modelRNN.predict(Reviews_val, batch_size=32, verbose=0)\n",
        "Reviews_test_prob = modelRNN.predict(Reviews_test, batch_size=32, verbose=0)\n",
        "\n",
        "print(metrics.classification_report(Labels_train, (Reviews_train_prob > 0.5).astype('int32')))\n",
        "print(metrics.classification_report(Labels_val, (Reviews_val_prob > 0.5).astype('int32')))\n",
        "print(metrics.classification_report(Labels_test, (Reviews_test_prob > 0.5).astype('int32')))"
      ],
      "execution_count": 21,
      "outputs": [
        {
          "output_type": "stream",
          "text": [
            "              precision    recall  f1-score   support\n",
            "\n",
            "           0       0.94      0.93      0.93     12500\n",
            "           1       0.93      0.94      0.93     12500\n",
            "\n",
            "    accuracy                           0.93     25000\n",
            "   macro avg       0.93      0.93      0.93     25000\n",
            "weighted avg       0.93      0.93      0.93     25000\n",
            "\n",
            "              precision    recall  f1-score   support\n",
            "\n",
            "           0       0.87      0.88      0.88      7535\n",
            "           1       0.88      0.87      0.88      7465\n",
            "\n",
            "    accuracy                           0.88     15000\n",
            "   macro avg       0.88      0.88      0.88     15000\n",
            "weighted avg       0.88      0.88      0.88     15000\n",
            "\n",
            "              precision    recall  f1-score   support\n",
            "\n",
            "           0       0.87      0.88      0.88      4965\n",
            "           1       0.88      0.87      0.88      5035\n",
            "\n",
            "    accuracy                           0.88     10000\n",
            "   macro avg       0.88      0.88      0.88     10000\n",
            "weighted avg       0.88      0.88      0.88     10000\n",
            "\n"
          ],
          "name": "stdout"
        }
      ]
    },
    {
      "cell_type": "markdown",
      "metadata": {
        "id": "pxSJZW2X5CxH"
      },
      "source": [
        "## Baseline classifier"
      ]
    },
    {
      "cell_type": "code",
      "metadata": {
        "id": "Gi1ms4kD3W6v"
      },
      "source": [
        "modelBase = DummyClassifier(strategy='most_frequent')"
      ],
      "execution_count": 22,
      "outputs": []
    },
    {
      "cell_type": "markdown",
      "metadata": {
        "id": "IzwQkvYHRCqr"
      },
      "source": [
        "Fit Baseline Model"
      ]
    },
    {
      "cell_type": "code",
      "metadata": {
        "id": "KRwMDQX-RGNQ",
        "colab": {
          "base_uri": "https://localhost:8080/"
        },
        "outputId": "e3bf9754-0a70-44a3-e236-f196d342d707"
      },
      "source": [
        "modelBase.fit(Reviews_train, Labels_train)"
      ],
      "execution_count": 23,
      "outputs": [
        {
          "output_type": "execute_result",
          "data": {
            "text/plain": [
              "DummyClassifier(constant=None, random_state=None, strategy='most_frequent')"
            ]
          },
          "metadata": {
            "tags": []
          },
          "execution_count": 23
        }
      ]
    },
    {
      "cell_type": "markdown",
      "metadata": {
        "id": "L8e4d_cp4sE8"
      },
      "source": [
        "Evaluate Performance of Baseline"
      ]
    },
    {
      "cell_type": "code",
      "metadata": {
        "id": "pMEpj_PN4UMZ",
        "colab": {
          "base_uri": "https://localhost:8080/"
        },
        "outputId": "b9ea1ef0-922c-4e03-bc39-cb46eda12cc0"
      },
      "source": [
        "Reviews_train_prob = modelBase.predict(Reviews_train)\n",
        "Reviews_val_prob = modelBase.predict(Reviews_val)\n",
        "Reviews_test_prob = modelBase.predict(Reviews_test)\n",
        "\n",
        "print(metrics.classification_report(Labels_train, (Reviews_train_prob > 0.5).astype('int32')))\n",
        "print(metrics.classification_report(Labels_val, (Reviews_val_prob > 0.5).astype('int32')))\n",
        "print(metrics.classification_report(Labels_test, (Reviews_test_prob > 0.5).astype('int32')))"
      ],
      "execution_count": 24,
      "outputs": [
        {
          "output_type": "stream",
          "text": [
            "              precision    recall  f1-score   support\n",
            "\n",
            "           0       0.50      1.00      0.67     12500\n",
            "           1       0.00      0.00      0.00     12500\n",
            "\n",
            "    accuracy                           0.50     25000\n",
            "   macro avg       0.25      0.50      0.33     25000\n",
            "weighted avg       0.25      0.50      0.33     25000\n",
            "\n",
            "              precision    recall  f1-score   support\n",
            "\n",
            "           0       0.50      1.00      0.67      7535\n",
            "           1       0.00      0.00      0.00      7465\n",
            "\n",
            "    accuracy                           0.50     15000\n",
            "   macro avg       0.25      0.50      0.33     15000\n",
            "weighted avg       0.25      0.50      0.34     15000\n",
            "\n",
            "              precision    recall  f1-score   support\n",
            "\n",
            "           0       0.50      1.00      0.66      4965\n",
            "           1       0.00      0.00      0.00      5035\n",
            "\n",
            "    accuracy                           0.50     10000\n",
            "   macro avg       0.25      0.50      0.33     10000\n",
            "weighted avg       0.25      0.50      0.33     10000\n",
            "\n"
          ],
          "name": "stdout"
        }
      ]
    },
    {
      "cell_type": "markdown",
      "metadata": {
        "id": "cot17ALS-TpO"
      },
      "source": [
        "## MLP Sequential model: a linear stack of layers"
      ]
    },
    {
      "cell_type": "code",
      "metadata": {
        "id": "uKd44l1H7Cj-"
      },
      "source": [
        "n_classes = 1\n",
        "\n",
        "modelMLP = Sequential()\n",
        "modelMLP.add(Embedding(vocab, embedding_dim, weights=[embedding_matrix], \n",
        "             input_length=max_length,mask_zero=False, trainable=True))\n",
        "modelMLP.add(Flatten())\n",
        "modelMLP.add(Dense(256, activation='relu'))\n",
        "modelMLP.add(Dropout(0.5))\n",
        "modelMLP.add(Dense(n_classes, activation='sigmoid'))\n",
        "\n",
        "sgd = SGD(lr=0.01, decay=1e-6, momentum=0.9, nesterov=True)\n",
        "\n",
        "modelMLP.compile(loss='binary_crossentropy',\n",
        "                  optimizer=sgd,\n",
        "                  metrics=[\"accuracy\"])\n",
        "\n",
        "checkpoint = ModelCheckpoint('keras_tf_idf_modelMLP.hdf5', monitor='val_f1', \n",
        "                             verbose=1, save_best_only=True, mode='max')\n",
        "\n",
        "early_stopping = EarlyStopping(monitor='val_loss', patience=3, restore_best_weights=True)\n"
      ],
      "execution_count": 25,
      "outputs": []
    },
    {
      "cell_type": "markdown",
      "metadata": {
        "id": "LPP3oMqMQc2J"
      },
      "source": [
        "Fit MLP Model"
      ]
    },
    {
      "cell_type": "code",
      "metadata": {
        "id": "ZpEnm0k-QUXp",
        "colab": {
          "base_uri": "https://localhost:8080/"
        },
        "outputId": "d27875c7-dbaa-4072-f48a-7bfdcf10d7d2"
      },
      "source": [
        "historyMLP = modelMLP.fit(Reviews_train, Labels_train,\n",
        "                       batch_size=64,\n",
        "                       epochs=10,\n",
        "                       verbose=1,\n",
        "                       callbacks=[checkpoint, early_stopping],\n",
        "                       validation_data=(Reviews_val, Labels_val))"
      ],
      "execution_count": 26,
      "outputs": [
        {
          "output_type": "stream",
          "text": [
            "Epoch 1/10\n",
            "391/391 [==============================] - 6s 15ms/step - loss: 0.6621 - accuracy: 0.5917 - val_loss: 0.5355 - val_accuracy: 0.7371\n",
            "WARNING:tensorflow:Can save best model only with val_f1 available, skipping.\n",
            "Epoch 2/10\n",
            "391/391 [==============================] - 4s 11ms/step - loss: 0.4461 - accuracy: 0.7997 - val_loss: 0.4499 - val_accuracy: 0.7831\n",
            "WARNING:tensorflow:Can save best model only with val_f1 available, skipping.\n",
            "Epoch 3/10\n",
            "391/391 [==============================] - 4s 11ms/step - loss: 0.3148 - accuracy: 0.8661 - val_loss: 0.4468 - val_accuracy: 0.7937\n",
            "WARNING:tensorflow:Can save best model only with val_f1 available, skipping.\n",
            "Epoch 4/10\n",
            "391/391 [==============================] - 4s 11ms/step - loss: 0.2246 - accuracy: 0.9139 - val_loss: 0.4687 - val_accuracy: 0.7914\n",
            "WARNING:tensorflow:Can save best model only with val_f1 available, skipping.\n",
            "Epoch 5/10\n",
            "391/391 [==============================] - 4s 11ms/step - loss: 0.1522 - accuracy: 0.9482 - val_loss: 0.5145 - val_accuracy: 0.7902\n",
            "WARNING:tensorflow:Can save best model only with val_f1 available, skipping.\n",
            "Epoch 6/10\n",
            "391/391 [==============================] - 4s 11ms/step - loss: 0.1033 - accuracy: 0.9675 - val_loss: 0.4645 - val_accuracy: 0.8164\n",
            "WARNING:tensorflow:Can save best model only with val_f1 available, skipping.\n"
          ],
          "name": "stdout"
        }
      ]
    },
    {
      "cell_type": "markdown",
      "metadata": {
        "id": "2f1zQvyU4w_Q"
      },
      "source": [
        "Evaluate Performance of MLP"
      ]
    },
    {
      "cell_type": "code",
      "metadata": {
        "id": "wVJ6urX64y4b",
        "colab": {
          "base_uri": "https://localhost:8080/"
        },
        "outputId": "ba68f24a-4306-49aa-f355-cf3c7cd23807"
      },
      "source": [
        "Reviews_train_prob = modelMLP.predict(Reviews_train, batch_size=32, verbose=0)\n",
        "Reviews_val_prob = modelMLP.predict(Reviews_val, batch_size=32, verbose=0)\n",
        "Reviews_test_prob = modelMLP.predict(Reviews_test, batch_size=32, verbose=0)\n",
        "\n",
        "print(metrics.classification_report(Labels_train, (Reviews_train_prob > 0.5).astype('int32')))\n",
        "print(metrics.classification_report(Labels_val, (Reviews_val_prob > 0.5).astype('int32')))\n",
        "print(metrics.classification_report(Labels_test, (Reviews_test_prob > 0.5).astype('int32')))"
      ],
      "execution_count": 27,
      "outputs": [
        {
          "output_type": "stream",
          "text": [
            "              precision    recall  f1-score   support\n",
            "\n",
            "           0       0.89      0.97      0.93     12500\n",
            "           1       0.96      0.88      0.92     12500\n",
            "\n",
            "    accuracy                           0.92     25000\n",
            "   macro avg       0.93      0.92      0.92     25000\n",
            "weighted avg       0.93      0.92      0.92     25000\n",
            "\n",
            "              precision    recall  f1-score   support\n",
            "\n",
            "           0       0.76      0.86      0.81      7535\n",
            "           1       0.84      0.73      0.78      7465\n",
            "\n",
            "    accuracy                           0.79     15000\n",
            "   macro avg       0.80      0.79      0.79     15000\n",
            "weighted avg       0.80      0.79      0.79     15000\n",
            "\n",
            "              precision    recall  f1-score   support\n",
            "\n",
            "           0       0.76      0.86      0.81      4965\n",
            "           1       0.84      0.73      0.78      5035\n",
            "\n",
            "    accuracy                           0.79     10000\n",
            "   macro avg       0.80      0.80      0.79     10000\n",
            "weighted avg       0.80      0.79      0.79     10000\n",
            "\n"
          ],
          "name": "stdout"
        }
      ]
    },
    {
      "cell_type": "markdown",
      "metadata": {
        "id": "VfKb0AJ147Gy"
      },
      "source": [
        "##Logistic Regression"
      ]
    },
    {
      "cell_type": "code",
      "metadata": {
        "id": "OW7iMCvv5SYF"
      },
      "source": [
        "from sklearn.linear_model import LogisticRegression\n",
        "\n",
        "modelLogistic = LogisticRegression(solver=\"liblinear\",C=0.9)"
      ],
      "execution_count": 28,
      "outputs": []
    },
    {
      "cell_type": "markdown",
      "metadata": {
        "id": "sjQY04Ld5NL-"
      },
      "source": [
        "Fit Logistic Regration Model"
      ]
    },
    {
      "cell_type": "code",
      "metadata": {
        "id": "MYYMaXKl5FAN",
        "colab": {
          "base_uri": "https://localhost:8080/"
        },
        "outputId": "e42a6871-dfde-4b1a-e07d-d64dc0c62dc3"
      },
      "source": [
        "modelLogistic.fit(Reviews_train,Labels_train)"
      ],
      "execution_count": 29,
      "outputs": [
        {
          "output_type": "execute_result",
          "data": {
            "text/plain": [
              "LogisticRegression(C=0.9, class_weight=None, dual=False, fit_intercept=True,\n",
              "                   intercept_scaling=1, l1_ratio=None, max_iter=100,\n",
              "                   multi_class='auto', n_jobs=None, penalty='l2',\n",
              "                   random_state=None, solver='liblinear', tol=0.0001, verbose=0,\n",
              "                   warm_start=False)"
            ]
          },
          "metadata": {
            "tags": []
          },
          "execution_count": 29
        }
      ]
    },
    {
      "cell_type": "markdown",
      "metadata": {
        "id": "8kHo1oXq6DQ2"
      },
      "source": [
        "Evaluate Performance of Logistic"
      ]
    },
    {
      "cell_type": "code",
      "metadata": {
        "id": "vdAiV6Fp5HeQ",
        "colab": {
          "base_uri": "https://localhost:8080/"
        },
        "outputId": "14eff59d-f09e-4bcc-ceae-14fb2a6adf15"
      },
      "source": [
        "Reviews_train_prob = modelLogistic.predict(Reviews_train)\n",
        "Reviews_val_prob = modelLogistic.predict(Reviews_val)\n",
        "Reviews_test_prob = modelLogistic.predict(Reviews_test)\n",
        "\n",
        "print(metrics.classification_report(Labels_train, (Reviews_train_prob > 0.5).astype('int32')))\n",
        "print(metrics.classification_report(Labels_val, (Reviews_val_prob > 0.5).astype('int32')))\n",
        "print(metrics.classification_report(Labels_test, (Reviews_test_prob > 0.5).astype('int32')))"
      ],
      "execution_count": 30,
      "outputs": [
        {
          "output_type": "stream",
          "text": [
            "              precision    recall  f1-score   support\n",
            "\n",
            "           0       0.54      0.59      0.56     12500\n",
            "           1       0.54      0.49      0.52     12500\n",
            "\n",
            "    accuracy                           0.54     25000\n",
            "   macro avg       0.54      0.54      0.54     25000\n",
            "weighted avg       0.54      0.54      0.54     25000\n",
            "\n",
            "              precision    recall  f1-score   support\n",
            "\n",
            "           0       0.52      0.60      0.55      7535\n",
            "           1       0.52      0.44      0.48      7465\n",
            "\n",
            "    accuracy                           0.52     15000\n",
            "   macro avg       0.52      0.52      0.52     15000\n",
            "weighted avg       0.52      0.52      0.52     15000\n",
            "\n",
            "              precision    recall  f1-score   support\n",
            "\n",
            "           0       0.50      0.59      0.54      4965\n",
            "           1       0.51      0.43      0.47      5035\n",
            "\n",
            "    accuracy                           0.51     10000\n",
            "   macro avg       0.51      0.51      0.50     10000\n",
            "weighted avg       0.51      0.51      0.50     10000\n",
            "\n"
          ],
          "name": "stdout"
        }
      ]
    },
    {
      "cell_type": "markdown",
      "metadata": {
        "id": "YAIc2EC6JEC9"
      },
      "source": [
        "# BootStrap"
      ]
    },
    {
      "cell_type": "code",
      "metadata": {
        "id": "n-JZ4-I8JIgD"
      },
      "source": [
        "def BootStrap(Reviews_test=Reviews_test,Labels_test=Labels_test,b=20,model=None):\n",
        "\n",
        "  predictions_modelRNN = modelRNN.predict(Reviews_test)\n",
        "  predictions_model = model.predict(Reviews_test)\n",
        "\n",
        "  f1_modelRNN = f1_score(Labels_test,(predictions_modelRNN>0.5),average='macro')\n",
        "  f1_model = f1_score(Labels_test,(predictions_model>0.5),average='macro')\n",
        "\n",
        "  delta = f1_modelRNN - f1_model\n",
        "  s=0\n",
        "  for _ in range(b):\n",
        "\n",
        "    Reviews_test, Labels_test = resample(Reviews_test,Labels_test)\n",
        "    \n",
        "    predictions_modelRNN = modelRNN.predict(Reviews_test)\n",
        "    predictions_model = model.predict(Reviews_test)\n",
        "\n",
        "    f1_modelRNN = f1_score(Labels_test,(predictions_modelRNN>0.5),average='macro')\n",
        "    f1_model = f1_score(Labels_test,(predictions_model>0.5),average='macro')\n",
        "\n",
        "    delta_star = f1_modelRNN - f1_model \n",
        "\n",
        "    if delta_star > 2*delta:\n",
        "      s+=1\n",
        "\n",
        "  return round(s/b,4)"
      ],
      "execution_count": 31,
      "outputs": []
    },
    {
      "cell_type": "markdown",
      "metadata": {
        "id": "KL8nmJRBKBrB"
      },
      "source": [
        "RNN vs Baseline (Statistically Significant)"
      ]
    },
    {
      "cell_type": "code",
      "metadata": {
        "id": "DHrGEVNzKEoj",
        "colab": {
          "base_uri": "https://localhost:8080/"
        },
        "outputId": "07534b63-8ebb-4b9c-b7af-a7aab63e0618"
      },
      "source": [
        "pvalue = BootStrap(model=modelBase)\n",
        "\n",
        "print(pvalue)"
      ],
      "execution_count": 32,
      "outputs": [
        {
          "output_type": "stream",
          "text": [
            "0.0\n"
          ],
          "name": "stdout"
        }
      ]
    },
    {
      "cell_type": "markdown",
      "metadata": {
        "id": "kwhNrDFTKONa"
      },
      "source": [
        "RNN vs MLP (Statistically Significant)"
      ]
    },
    {
      "cell_type": "code",
      "metadata": {
        "id": "kaexzKacKTWl",
        "colab": {
          "base_uri": "https://localhost:8080/"
        },
        "outputId": "a4aa6d4e-fa4e-4557-bcd6-76f2cbc408f4"
      },
      "source": [
        "pvalue = BootStrap(model=modelMLP)\n",
        "\n",
        "print(pvalue)"
      ],
      "execution_count": 33,
      "outputs": [
        {
          "output_type": "stream",
          "text": [
            "0.0\n"
          ],
          "name": "stdout"
        }
      ]
    },
    {
      "cell_type": "markdown",
      "metadata": {
        "id": "KfvT2HyZ5fXy"
      },
      "source": [
        "RNN vs Logistic Regrassion (Statistically Significant)"
      ]
    },
    {
      "cell_type": "code",
      "metadata": {
        "id": "XeCxJVKn5oyJ",
        "colab": {
          "base_uri": "https://localhost:8080/"
        },
        "outputId": "755dcf3e-944a-4014-b23e-fc03c6716f29"
      },
      "source": [
        "pvalue = BootStrap(model=modelLogistic)\n",
        "\n",
        "print(pvalue)"
      ],
      "execution_count": 34,
      "outputs": [
        {
          "output_type": "stream",
          "text": [
            "0.0\n"
          ],
          "name": "stdout"
        }
      ]
    },
    {
      "cell_type": "markdown",
      "metadata": {
        "id": "0Hl5dvyCK8Ht"
      },
      "source": [
        "##ROC Curves"
      ]
    },
    {
      "cell_type": "code",
      "metadata": {
        "id": "DDzcAld2K-wK"
      },
      "source": [
        "def plot_roc_curve(fpr,tpr):\n",
        "  plt.plot(fpr,tpr)\n",
        "  plt.axis([0,1,0,1])\n",
        "  plt.xlabel('False Positive Rate')\n",
        "  plt.ylabel('True Positive Rate')\n",
        "  plt.show()"
      ],
      "execution_count": 35,
      "outputs": []
    },
    {
      "cell_type": "code",
      "metadata": {
        "id": "Vk1sraFuLB5U",
        "colab": {
          "base_uri": "https://localhost:8080/",
          "height": 1000
        },
        "outputId": "cb22117c-e40f-49a9-c7de-f861cb82ad34"
      },
      "source": [
        "from sklearn.metrics import roc_curve,roc_auc_score\n",
        "#------------For RNN Model---------------\n",
        "Reviews_test_prob = modelRNN.predict(Reviews_test)\n",
        "fpr , tpr , thresholds = roc_curve(Labels_test, Reviews_test_prob)\n",
        "auc = roc_auc_score(Labels_test, Reviews_test_prob)\n",
        "print('AUC score for RNN: %f' % auc)\n",
        "plot_roc_curve(fpr,tpr)\n",
        "#----------For Baseline Model---------\n",
        "Reviews_test_prob = modelBase.predict(Reviews_test)\n",
        "fpr , tpr , thresholds = roc_curve(Labels_test, Reviews_test_prob)\n",
        "auc = roc_auc_score(Labels_test, Reviews_test_prob)\n",
        "print('AUC score for Baseline: %f' % auc)\n",
        "plot_roc_curve(fpr,tpr)\n",
        "#------------For MLP Model---------------\n",
        "Reviews_test_prob = modelMLP.predict(Reviews_test)\n",
        "fpr , tpr , thresholds = roc_curve(Labels_test, Reviews_test_prob)\n",
        "auc = roc_auc_score(Labels_test, Reviews_test_prob)\n",
        "print('AUC score for MLP: %f' % auc)\n",
        "plot_roc_curve(fpr,tpr)\n",
        "#------------For Logistic Regression Model---------------\n",
        "Reviews_test_prob = modelLogistic.predict(Reviews_test)\n",
        "fpr , tpr , thresholds = roc_curve(Labels_test, Reviews_test_prob)\n",
        "auc = roc_auc_score(Labels_test, Reviews_test_prob)\n",
        "print('AUC score for Logistic Regression: %f' % auc)\n",
        "plot_roc_curve(fpr,tpr)\n"
      ],
      "execution_count": 36,
      "outputs": [
        {
          "output_type": "stream",
          "text": [
            "AUC score for RNN: 0.944703\n"
          ],
          "name": "stdout"
        },
        {
          "output_type": "display_data",
          "data": {
            "image/png": "[encoded data removed]",
            "text/plain": [
              "<Figure size 432x288 with 1 Axes>"
            ]
          },
          "metadata": {
            "tags": [],
            "needs_background": "light"
          }
        },
        {
          "output_type": "stream",
          "text": [
            "AUC score for Baseline: 0.500000\n"
          ],
          "name": "stdout"
        },
        {
          "output_type": "display_data",
          "data": {
            "image/png": "[encoded data removed]",
            "text/plain": [
              "<Figure size 432x288 with 1 Axes>"
            ]
          },
          "metadata": {
            "tags": [],
            "needs_background": "light"
          }
        },
        {
          "output_type": "stream",
          "text": [
            "AUC score for MLP: 0.888238\n"
          ],
          "name": "stdout"
        },
        {
          "output_type": "display_data",
          "data": {
            "image/png": "[encoded data removed]",
            "text/plain": [
              "<Figure size 432x288 with 1 Axes>"
            ]
          },
          "metadata": {
            "tags": [],
            "needs_background": "light"
          }
        },
        {
          "output_type": "stream",
          "text": [
            "AUC score for Logistic Regression: 0.506849\n"
          ],
          "name": "stdout"
        },
        {
          "output_type": "display_data",
          "data": {
            "image/png": "[encoded data removed]",
            "text/plain": [
              "<Figure size 432x288 with 1 Axes>"
            ]
          },
          "metadata": {
            "tags": [],
            "needs_background": "light"
          }
        }
      ]
    }
  ]
}