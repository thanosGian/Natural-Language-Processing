{
  "nbformat": 4,
  "nbformat_minor": 0,
  "metadata": {
    "colab": {
      "name": "NLP3Exercise.ipynb",
      "provenance": [],
      "collapsed_sections": []
    },
    "kernelspec": {
      "name": "python3",
      "display_name": "Python 3"
    },
    "accelerator": "GPU"
  },
  "cells": [
    {
      "cell_type": "markdown",
      "metadata": {
        "id": "suevmYgjyWre"
      },
      "source": [
        "## Import packages and preprocess movie dataset"
      ]
    },
    {
      "cell_type": "code",
      "metadata": {
        "id": "Pj3KKqYTvtfM",
        "colab": {
          "base_uri": "https://localhost:8080/"
        },
        "outputId": "aca4c7af-6437-465b-9f56-865f026fbee1"
      },
      "source": [
        "#%tensorflow_version 1.x\n",
        "\n",
        "!pip install --upgrade tensorflow\n",
        "!pip install -U Keras\n",
        "!wget http://www.cs.cornell.edu/people/pabo/movie-review-data/review_polarity.tar.gz\n",
        "!tar xzf review_polarity.tar.gz"
      ],
      "execution_count": 1,
      "outputs": [
        {
          "output_type": "stream",
          "text": [
            "Requirement already up-to-date: tensorflow in /usr/local/lib/python3.6/dist-packages (2.4.1)\n",
            "Requirement already satisfied, skipping upgrade: gast==0.3.3 in /usr/local/lib/python3.6/dist-packages (from tensorflow) (0.3.3)\n",
            "Requirement already satisfied, skipping upgrade: wheel~=0.35 in /usr/local/lib/python3.6/dist-packages (from tensorflow) (0.36.2)\n",
            "Requirement already satisfied, skipping upgrade: keras-preprocessing~=1.1.2 in /usr/local/lib/python3.6/dist-packages (from tensorflow) (1.1.2)\n",
            "Requirement already satisfied, skipping upgrade: tensorflow-estimator<2.5.0,>=2.4.0 in /usr/local/lib/python3.6/dist-packages (from tensorflow) (2.4.0)\n",
            "Requirement already satisfied, skipping upgrade: protobuf>=3.9.2 in /usr/local/lib/python3.6/dist-packages (from tensorflow) (3.12.4)\n",
            "Requirement already satisfied, skipping upgrade: termcolor~=1.1.0 in /usr/local/lib/python3.6/dist-packages (from tensorflow) (1.1.0)\n",
            "Requirement already satisfied, skipping upgrade: astunparse~=1.6.3 in /usr/local/lib/python3.6/dist-packages (from tensorflow) (1.6.3)\n",
            "Requirement already satisfied, skipping upgrade: google-pasta~=0.2 in /usr/local/lib/python3.6/dist-packages (from tensorflow) (0.2.0)\n",
            "Requirement already satisfied, skipping upgrade: grpcio~=1.32.0 in /usr/local/lib/python3.6/dist-packages (from tensorflow) (1.32.0)\n",
            "Requirement already satisfied, skipping upgrade: flatbuffers~=1.12.0 in /usr/local/lib/python3.6/dist-packages (from tensorflow) (1.12)\n",
            "Requirement already satisfied, skipping upgrade: opt-einsum~=3.3.0 in /usr/local/lib/python3.6/dist-packages (from tensorflow) (3.3.0)\n",
            "Requirement already satisfied, skipping upgrade: tensorboard~=2.4 in /usr/local/lib/python3.6/dist-packages (from tensorflow) (2.4.1)\n",
            "Requirement already satisfied, skipping upgrade: six~=1.15.0 in /usr/local/lib/python3.6/dist-packages (from tensorflow) (1.15.0)\n",
            "Requirement already satisfied, skipping upgrade: wrapt~=1.12.1 in /usr/local/lib/python3.6/dist-packages (from tensorflow) (1.12.1)\n",
            "Requirement already satisfied, skipping upgrade: numpy~=1.19.2 in /usr/local/lib/python3.6/dist-packages (from tensorflow) (1.19.5)\n",
            "Requirement already satisfied, skipping upgrade: h5py~=2.10.0 in /usr/local/lib/python3.6/dist-packages (from tensorflow) (2.10.0)\n",
            "Requirement already satisfied, skipping upgrade: absl-py~=0.10 in /usr/local/lib/python3.6/dist-packages (from tensorflow) (0.10.0)\n",
            "Requirement already satisfied, skipping upgrade: typing-extensions~=3.7.4 in /usr/local/lib/python3.6/dist-packages (from tensorflow) (3.7.4.3)\n",
            "Requirement already satisfied, skipping upgrade: setuptools in /usr/local/lib/python3.6/dist-packages (from protobuf>=3.9.2->tensorflow) (53.0.0)\n",
            "Requirement already satisfied, skipping upgrade: werkzeug>=0.11.15 in /usr/local/lib/python3.6/dist-packages (from tensorboard~=2.4->tensorflow) (1.0.1)\n",
            "Requirement already satisfied, skipping upgrade: requests<3,>=2.21.0 in /usr/local/lib/python3.6/dist-packages (from tensorboard~=2.4->tensorflow) (2.23.0)\n",
            "Requirement already satisfied, skipping upgrade: google-auth-oauthlib<0.5,>=0.4.1 in /usr/local/lib/python3.6/dist-packages (from tensorboard~=2.4->tensorflow) (0.4.2)\n",
            "Requirement already satisfied, skipping upgrade: tensorboard-plugin-wit>=1.6.0 in /usr/local/lib/python3.6/dist-packages (from tensorboard~=2.4->tensorflow) (1.8.0)\n",
            "Requirement already satisfied, skipping upgrade: google-auth<2,>=1.6.3 in /usr/local/lib/python3.6/dist-packages (from tensorboard~=2.4->tensorflow) (1.25.0)\n",
            "Requirement already satisfied, skipping upgrade: markdown>=2.6.8 in /usr/local/lib/python3.6/dist-packages (from tensorboard~=2.4->tensorflow) (3.3.3)\n",
            "Requirement already satisfied, skipping upgrade: certifi>=2017.4.17 in /usr/local/lib/python3.6/dist-packages (from requests<3,>=2.21.0->tensorboard~=2.4->tensorflow) (2020.12.5)\n",
            "Requirement already satisfied, skipping upgrade: chardet<4,>=3.0.2 in /usr/local/lib/python3.6/dist-packages (from requests<3,>=2.21.0->tensorboard~=2.4->tensorflow) (3.0.4)\n",
            "Requirement already satisfied, skipping upgrade: urllib3!=1.25.0,!=1.25.1,<1.26,>=1.21.1 in /usr/local/lib/python3.6/dist-packages (from requests<3,>=2.21.0->tensorboard~=2.4->tensorflow) (1.24.3)\n",
            "Requirement already satisfied, skipping upgrade: idna<3,>=2.5 in /usr/local/lib/python3.6/dist-packages (from requests<3,>=2.21.0->tensorboard~=2.4->tensorflow) (2.10)\n",
            "Requirement already satisfied, skipping upgrade: requests-oauthlib>=0.7.0 in /usr/local/lib/python3.6/dist-packages (from google-auth-oauthlib<0.5,>=0.4.1->tensorboard~=2.4->tensorflow) (1.3.0)\n",
            "Requirement already satisfied, skipping upgrade: pyasn1-modules>=0.2.1 in /usr/local/lib/python3.6/dist-packages (from google-auth<2,>=1.6.3->tensorboard~=2.4->tensorflow) (0.2.8)\n",
            "Requirement already satisfied, skipping upgrade: rsa<5,>=3.1.4; python_version >= \"3.6\" in /usr/local/lib/python3.6/dist-packages (from google-auth<2,>=1.6.3->tensorboard~=2.4->tensorflow) (4.7)\n",
            "Requirement already satisfied, skipping upgrade: cachetools<5.0,>=2.0.0 in /usr/local/lib/python3.6/dist-packages (from google-auth<2,>=1.6.3->tensorboard~=2.4->tensorflow) (4.2.1)\n",
            "Requirement already satisfied, skipping upgrade: importlib-metadata; python_version < \"3.8\" in /usr/local/lib/python3.6/dist-packages (from markdown>=2.6.8->tensorboard~=2.4->tensorflow) (3.4.0)\n",
            "Requirement already satisfied, skipping upgrade: oauthlib>=3.0.0 in /usr/local/lib/python3.6/dist-packages (from requests-oauthlib>=0.7.0->google-auth-oauthlib<0.5,>=0.4.1->tensorboard~=2.4->tensorflow) (3.1.0)\n",
            "Requirement already satisfied, skipping upgrade: pyasn1<0.5.0,>=0.4.6 in /usr/local/lib/python3.6/dist-packages (from pyasn1-modules>=0.2.1->google-auth<2,>=1.6.3->tensorboard~=2.4->tensorflow) (0.4.8)\n",
            "Requirement already satisfied, skipping upgrade: zipp>=0.5 in /usr/local/lib/python3.6/dist-packages (from importlib-metadata; python_version < \"3.8\"->markdown>=2.6.8->tensorboard~=2.4->tensorflow) (3.4.0)\n",
            "Requirement already up-to-date: Keras in /usr/local/lib/python3.6/dist-packages (2.4.3)\n",
            "Requirement already satisfied, skipping upgrade: scipy>=0.14 in /usr/local/lib/python3.6/dist-packages (from Keras) (1.4.1)\n",
            "Requirement already satisfied, skipping upgrade: numpy>=1.9.1 in /usr/local/lib/python3.6/dist-packages (from Keras) (1.19.5)\n",
            "Requirement already satisfied, skipping upgrade: pyyaml in /usr/local/lib/python3.6/dist-packages (from Keras) (3.13)\n",
            "Requirement already satisfied, skipping upgrade: h5py in /usr/local/lib/python3.6/dist-packages (from Keras) (2.10.0)\n",
            "Requirement already satisfied, skipping upgrade: six in /usr/local/lib/python3.6/dist-packages (from h5py->Keras) (1.15.0)\n",
            "--2021-02-15 10:33:42--  http://www.cs.cornell.edu/people/pabo/movie-review-data/review_polarity.tar.gz\n",
            "Resolving www.cs.cornell.edu (www.cs.cornell.edu)... 132.236.207.36\n",
            "Connecting to www.cs.cornell.edu (www.cs.cornell.edu)|132.236.207.36|:80... connected.\n",
            "HTTP request sent, awaiting response... 200 OK\n",
            "Length: 3127238 (3.0M) [application/x-gzip]\n",
            "Saving to: ‘review_polarity.tar.gz.5’\n",
            "\n",
            "review_polarity.tar 100%[===================>]   2.98M  1.93MB/s    in 1.5s    \n",
            "\n",
            "2021-02-15 10:33:44 (1.93 MB/s) - ‘review_polarity.tar.gz.5’ saved [3127238/3127238]\n",
            "\n"
          ],
          "name": "stdout"
        }
      ]
    },
    {
      "cell_type": "markdown",
      "metadata": {
        "id": "nM1YE0z5AvSy"
      },
      "source": [
        "# Load data\n",
        "\n",
        "\n",
        "\n"
      ]
    },
    {
      "cell_type": "code",
      "metadata": {
        "id": "Uya8D4A6wFL1",
        "colab": {
          "base_uri": "https://localhost:8080/"
        },
        "outputId": "2ae4a352-d6dd-4b02-8f9c-21ef0cad20d6"
      },
      "source": [
        "import re\n",
        "import nltk\n",
        "from pprint import pprint\n",
        "from nltk.corpus import stopwords\n",
        "from sklearn.utils import resample\n",
        "import pandas as pd\n",
        "import numpy as np\n",
        "import tensorflow as tf\n",
        "from keras.layers import BatchNormalization\n",
        "from nltk.stem import WordNetLemmatizer\n",
        "from sklearn.datasets import load_files\n",
        "from sklearn.model_selection import train_test_split \n",
        "from sklearn.feature_extraction.text import TfidfVectorizer\n",
        "from sklearn.linear_model import LogisticRegression\n",
        "from sklearn.dummy import DummyClassifier\n",
        "from sklearn.metrics import f1_score, confusion_matrix, classification_report, accuracy_score\n",
        "from keras.utils.np_utils import to_categorical\n",
        "import warnings\n",
        "import sklearn.exceptions\n",
        "warnings.filterwarnings(\"ignore\", category=sklearn.exceptions.UndefinedMetricWarning)\n",
        "warnings.simplefilter(action='ignore', category=FutureWarning)\n",
        "from sklearn.metrics import roc_auc_score\n",
        "from sklearn.metrics import roc_curve\n",
        "from sklearn.metrics import classification_report\n",
        "from sklearn.metrics import precision_score , recall_score\n",
        "from keras.models import Model\n",
        "from keras.models import Sequential\n",
        "from keras.callbacks import ModelCheckpoint, EarlyStopping\n",
        "from keras.layers import Input, Dense, Dropout, add\n",
        "from keras.optimizers import Adam , SGD\n",
        "from keras import optimizers\n",
        "from keras import backend as K \n",
        "from keras.models import Sequential\n",
        "from keras.layers.core import Dense, Dropout, Activation\n",
        "from keras.datasets import mnist\n",
        "from keras.utils import np_utils\n",
        "from keras.callbacks import ModelCheckpoint\n",
        "from sklearn.utils import resample\n",
        "import numpy as np\n",
        "from numpy.random import seed\n",
        "import scipy\n",
        "seed(1)\n",
        "\n",
        "movies = load_files(\"txt_sentoken\", encoding=\"utf-8\")\n",
        "Reviews, Labels = movies.data, movies.target\n",
        "Reviews = np.asarray(Reviews)\n",
        "nltk.download('wordnet')\n",
        "nltk.download('stopwords')"
      ],
      "execution_count": 2,
      "outputs": [
        {
          "output_type": "stream",
          "text": [
            "[nltk_data] Downloading package wordnet to /root/nltk_data...\n",
            "[nltk_data]   Package wordnet is already up-to-date!\n",
            "[nltk_data] Downloading package stopwords to /root/nltk_data...\n",
            "[nltk_data]   Package stopwords is already up-to-date!\n"
          ],
          "name": "stdout"
        },
        {
          "output_type": "execute_result",
          "data": {
            "text/plain": [
              "True"
            ]
          },
          "metadata": {
            "tags": []
          },
          "execution_count": 2
        }
      ]
    },
    {
      "cell_type": "markdown",
      "metadata": {
        "id": "fK0i4Nsw5_cg"
      },
      "source": [
        "# Preprocessing data"
      ]
    },
    {
      "cell_type": "code",
      "metadata": {
        "id": "i82oleBkwjjY",
        "colab": {
          "base_uri": "https://localhost:8080/"
        },
        "outputId": "093e8016-a357-4bf5-a114-2c12731061a6"
      },
      "source": [
        "stemmer = WordNetLemmatizer()\n",
        "docs = []\n",
        "for sen in range(0, len(Reviews)): \n",
        "  document = re.sub('\\s+[\\\\n\\\\r]+', '', Reviews[sen])\n",
        "  document = re.sub('\\W', ' ', document)\n",
        "  document = re.sub('\\s+[a-zA-Z]\\s+', ' ', document)\n",
        "  document = document.lower()\n",
        "  document = document.split()\n",
        "  document = [stemmer.lemmatize(word) for word in document]\n",
        "  document = ' '.join(document)\n",
        "  docs.append(document)\n",
        "print(len(docs))"
      ],
      "execution_count": 3,
      "outputs": [
        {
          "output_type": "stream",
          "text": [
            "2000\n"
          ],
          "name": "stdout"
        }
      ]
    },
    {
      "cell_type": "markdown",
      "metadata": {
        "id": "plbOVUYC0i_T"
      },
      "source": [
        "Split dataset into Train, Test and Validation"
      ]
    },
    {
      "cell_type": "code",
      "metadata": {
        "id": "5BGrfpUq0qWw"
      },
      "source": [
        "Reviews_train, Reviews_test, Labels_train, Labels_test = train_test_split(docs, Labels, test_size=0.3, random_state=1)\n",
        "Reviews_val, Reviews_test, Labels_val, Labels_test = train_test_split(Reviews_test, Labels_test, test_size=0.333, random_state=1)"
      ],
      "execution_count": 4,
      "outputs": []
    },
    {
      "cell_type": "markdown",
      "metadata": {
        "id": "FQKnfX2d1DO_"
      },
      "source": [
        "Print the length of the datasets to see how they have been splited"
      ]
    },
    {
      "cell_type": "code",
      "metadata": {
        "id": "8cTZfZRf1P6Q",
        "colab": {
          "base_uri": "https://localhost:8080/"
        },
        "outputId": "0871c6f3-97f7-4d0d-e1a9-1a9c4be0ea83"
      },
      "source": [
        "print(\"Train Data =\",len(Reviews_train),len(Labels_train))\n",
        "print(\"Test Data =\",len(Reviews_test),len(Labels_test))\n",
        "print(\"Validation Data =\",len(Reviews_val),len(Labels_val))"
      ],
      "execution_count": 5,
      "outputs": [
        {
          "output_type": "stream",
          "text": [
            "Train Data = 1400 1400\n",
            "Test Data = 200 200\n",
            "Validation Data = 400 400\n"
          ],
          "name": "stdout"
        }
      ]
    },
    {
      "cell_type": "markdown",
      "metadata": {
        "id": "cmE8MmI_2tI-"
      },
      "source": [
        "# Feature extraction (Tf*IDF n-gram features)"
      ]
    },
    {
      "cell_type": "code",
      "metadata": {
        "id": "5wEFBsLQ2vu4"
      },
      "source": [
        "vectorizer = TfidfVectorizer(ngram_range=(1, 2), max_features=2000,sublinear_tf=True, stop_words=stopwords.words('english'))\n",
        "Reviews_train_tfidf = vectorizer.fit_transform(Reviews_train)\n",
        "Reviews_test_tfidf = vectorizer.transform(Reviews_test)\n",
        "Reviews_val_tfidf = vectorizer.transform(Reviews_val)"
      ],
      "execution_count": 6,
      "outputs": []
    },
    {
      "cell_type": "markdown",
      "metadata": {
        "id": "Z-_B0r7Fjs_E"
      },
      "source": [
        "# Models"
      ]
    },
    {
      "cell_type": "markdown",
      "metadata": {
        "id": "MzR1L0TGqwpd"
      },
      "source": [
        "## Baseline"
      ]
    },
    {
      "cell_type": "code",
      "metadata": {
        "id": "7oqPxqAXqwzU",
        "colab": {
          "base_uri": "https://localhost:8080/"
        },
        "outputId": "e0c88156-281c-482d-ac89-418435da4cec"
      },
      "source": [
        "base = DummyClassifier(strategy='most_frequent')\n",
        "base.fit(Reviews_train_tfidf, Labels_train)\n",
        "\n",
        "predictions = base.predict(Reviews_train_tfidf)\n",
        "predictions_val = base.predict(Reviews_val_tfidf)\n",
        "predictions_test = base.predict(Reviews_test_tfidf)\n",
        "\n",
        "print('--------------Train set------------------------------------')\n",
        "print(classification_report(Labels_train,predictions,digits=5))\n",
        "print('--------------Validation set-------------------------------')\n",
        "print(classification_report(Labels_val,predictions_val,digits=5))\n",
        "print('--------------Test set-------------------------------------')\n",
        "print(classification_report(Labels_test,predictions_test,digits=5))"
      ],
      "execution_count": 7,
      "outputs": [
        {
          "output_type": "stream",
          "text": [
            "--------------Train set------------------------------------\n",
            "              precision    recall  f1-score   support\n",
            "\n",
            "           0    0.00000   0.00000   0.00000       692\n",
            "           1    0.50571   1.00000   0.67173       708\n",
            "\n",
            "    accuracy                        0.50571      1400\n",
            "   macro avg    0.25286   0.50000   0.33586      1400\n",
            "weighted avg    0.25575   0.50571   0.33970      1400\n",
            "\n",
            "--------------Validation set-------------------------------\n",
            "              precision    recall  f1-score   support\n",
            "\n",
            "           0    0.00000   0.00000   0.00000       209\n",
            "           1    0.47750   1.00000   0.64636       191\n",
            "\n",
            "    accuracy                        0.47750       400\n",
            "   macro avg    0.23875   0.50000   0.32318       400\n",
            "weighted avg    0.22801   0.47750   0.30864       400\n",
            "\n",
            "--------------Test set-------------------------------------\n",
            "              precision    recall  f1-score   support\n",
            "\n",
            "           0    0.00000   0.00000   0.00000        99\n",
            "           1    0.50500   1.00000   0.67110       101\n",
            "\n",
            "    accuracy                        0.50500       200\n",
            "   macro avg    0.25250   0.50000   0.33555       200\n",
            "weighted avg    0.25503   0.50500   0.33890       200\n",
            "\n"
          ],
          "name": "stdout"
        }
      ]
    },
    {
      "cell_type": "markdown",
      "metadata": {
        "id": "gylB8CG4DiNh"
      },
      "source": [
        "## Logistic Regression: second baseline "
      ]
    },
    {
      "cell_type": "code",
      "metadata": {
        "id": "RXaMwe2xDoA3",
        "colab": {
          "base_uri": "https://localhost:8080/"
        },
        "outputId": "7cd6e0e7-f49e-4402-86bb-47440eb726ca"
      },
      "source": [
        "clf = LogisticRegression(solver=\"liblinear\",C=0.9)\n",
        "clf.fit(Reviews_train_tfidf, Labels_train)\n",
        "\n",
        "predictions = clf.predict(Reviews_train_tfidf)\n",
        "predictions_val = clf.predict(Reviews_val_tfidf)\n",
        "predictions_test = clf.predict(Reviews_test_tfidf)\n",
        "\n",
        "print('--------------Train set------------------------------------')\n",
        "print(classification_report(Labels_train,predictions,digits=4))\n",
        "print('--------------Validation set-------------------------------')\n",
        "print(classification_report(Labels_val,predictions_val,digits=4))\n",
        "print('--------------Test set-------------------------------------')\n",
        "print(classification_report(Labels_test,predictions_test,digits=4))"
      ],
      "execution_count": 8,
      "outputs": [
        {
          "output_type": "stream",
          "text": [
            "--------------Train set------------------------------------\n",
            "              precision    recall  f1-score   support\n",
            "\n",
            "           0     0.9591    0.9480    0.9535       692\n",
            "           1     0.9497    0.9605    0.9551       708\n",
            "\n",
            "    accuracy                         0.9543      1400\n",
            "   macro avg     0.9544    0.9542    0.9543      1400\n",
            "weighted avg     0.9543    0.9543    0.9543      1400\n",
            "\n",
            "--------------Validation set-------------------------------\n",
            "              precision    recall  f1-score   support\n",
            "\n",
            "           0     0.8829    0.8660    0.8744       209\n",
            "           1     0.8564    0.8743    0.8653       191\n",
            "\n",
            "    accuracy                         0.8700       400\n",
            "   macro avg     0.8697    0.8702    0.8698       400\n",
            "weighted avg     0.8703    0.8700    0.8700       400\n",
            "\n",
            "--------------Test set-------------------------------------\n",
            "              precision    recall  f1-score   support\n",
            "\n",
            "           0     0.8854    0.8586    0.8718        99\n",
            "           1     0.8654    0.8911    0.8780       101\n",
            "\n",
            "    accuracy                         0.8750       200\n",
            "   macro avg     0.8754    0.8748    0.8749       200\n",
            "weighted avg     0.8753    0.8750    0.8750       200\n",
            "\n"
          ],
          "name": "stdout"
        }
      ]
    },
    {
      "cell_type": "markdown",
      "metadata": {
        "id": "alWJZEKW2FS9"
      },
      "source": [
        "## MLP Sequential model: a linear stack of layers\n",
        "\n"
      ]
    },
    {
      "cell_type": "code",
      "metadata": {
        "id": "Dg2-Iqf7XEu0"
      },
      "source": [
        "n_classes = 1\n",
        "model = Sequential()\n",
        "model.add(Dense(256, input_shape=(Reviews_train_tfidf.shape[1],) , activation='relu'))\n",
        "model.add(Dropout(0.5))\n",
        "model.add(Dense(n_classes, activation='sigmoid'))"
      ],
      "execution_count": 9,
      "outputs": []
    },
    {
      "cell_type": "markdown",
      "metadata": {
        "id": "oadeNahKXCVd"
      },
      "source": [
        "Plotting the MLP model"
      ]
    },
    {
      "cell_type": "code",
      "metadata": {
        "id": "t-K6hrwAXGoR",
        "colab": {
          "base_uri": "https://localhost:8080/",
          "height": 369
        },
        "outputId": "2e8dd5a6-fef6-4b58-f10c-68ea675550a3"
      },
      "source": [
        "%matplotlib notebook\n",
        "from keras.utils import plot_model\n",
        "\n",
        "plot_model(model, to_file='model.png')\n",
        "\n",
        "from IPython.display import Image \n",
        "Image('model.png')"
      ],
      "execution_count": 10,
      "outputs": [
        {
          "output_type": "execute_result",
          "data": {
            "image/png": "[encoded data removed]",
            "text/plain": [
              "<IPython.core.display.Image object>"
            ]
          },
          "metadata": {
            "tags": []
          },
          "execution_count": 10
        }
      ]
    },
    {
      "cell_type": "markdown",
      "metadata": {
        "id": "TV203RNEqBYt"
      },
      "source": [
        "## Compile"
      ]
    },
    {
      "cell_type": "code",
      "metadata": {
        "id": "tReQfyTx1ieS",
        "colab": {
          "base_uri": "https://localhost:8080/"
        },
        "outputId": "cfec4273-aaee-4d44-968e-1562999407a7"
      },
      "source": [
        "sgd = SGD(lr=0.01, decay=1e-6, momentum=0.9, nesterov=True)\n",
        "adam = Adam(lr=0.0001, decay=1e-6)\n",
        "\n",
        "model.compile(loss='binary_crossentropy',\n",
        "                  optimizer=sgd,\n",
        "                  metrics=[\"accuracy\"])\n",
        "print(model.summary())"
      ],
      "execution_count": 11,
      "outputs": [
        {
          "output_type": "stream",
          "text": [
            "Model: \"sequential\"\n",
            "_________________________________________________________________\n",
            "Layer (type)                 Output Shape              Param #   \n",
            "=================================================================\n",
            "dense (Dense)                (None, 256)               512256    \n",
            "_________________________________________________________________\n",
            "dropout (Dropout)            (None, 256)               0         \n",
            "_________________________________________________________________\n",
            "dense_1 (Dense)              (None, 1)                 257       \n",
            "=================================================================\n",
            "Total params: 512,513\n",
            "Trainable params: 512,513\n",
            "Non-trainable params: 0\n",
            "_________________________________________________________________\n",
            "None\n"
          ],
          "name": "stdout"
        }
      ]
    },
    {
      "cell_type": "markdown",
      "metadata": {
        "id": "hrWb8srEqD8G"
      },
      "source": [
        "## Fit"
      ]
    },
    {
      "cell_type": "code",
      "metadata": {
        "id": "BCL9Oc8X12vA"
      },
      "source": [
        "def convert_sparse_matrix_to_sparse_tensor(X):\r\n",
        "    coo = X.tocoo()\r\n",
        "    indices = np.mat([coo.row, coo.col]).transpose()\r\n",
        "    return tf.SparseTensor(indices, coo.data, coo.shape)"
      ],
      "execution_count": 12,
      "outputs": []
    },
    {
      "cell_type": "code",
      "metadata": {
        "id": "wpvE86LTArZa",
        "colab": {
          "base_uri": "https://localhost:8080/"
        },
        "outputId": "2740131f-e8c4-4be3-eb47-92e6979ff623"
      },
      "source": [
        "checkpoint = ModelCheckpoint('keras_tf_idf_model.hdf5', monitor='val_f1', verbose=1, save_best_only=True, mode='max')\n",
        "early_stopping = EarlyStopping(monitor='val_loss', patience=3, restore_best_weights=True)\n",
        "\n",
        "Reviews_val_tfidf_temp = convert_sparse_matrix_to_sparse_tensor(Reviews_val_tfidf)\n",
        "Reviews_train_tfidf_temp = convert_sparse_matrix_to_sparse_tensor(Reviews_train_tfidf)\n",
        "Reviews_test_tfidf_temp = convert_sparse_matrix_to_sparse_tensor(Reviews_test_tfidf)\n",
        "\n",
        "Reviews_val_tfidf1=tf.sparse.reorder(Reviews_val_tfidf_temp)\n",
        "Reviews_train_tfidf1=tf.sparse.reorder(Reviews_train_tfidf_temp)\n",
        "Reviews_test_tfidf1=tf.sparse.reorder(Reviews_test_tfidf_temp)\n",
        "\n",
        "history = model.fit(Reviews_train_tfidf1, Labels_train,\n",
        "              batch_size=64,\n",
        "              validation_data=(Reviews_val_tfidf1, Labels_val),\n",
        "              epochs=50,\n",
        "              verbose=2,\n",
        "              callbacks=[checkpoint, early_stopping]\n",
        "              )\n",
        "\n",
        "print(\"Evaluating... \")\n",
        "print('Training data:', flush=True)\n",
        "loss, acc = model.evaluate(Reviews_train_tfidf1, Labels_train, verbose=1)\n",
        "print(\"  Train: loss %.3f - acc %.3f\" % (loss, acc))\n",
        "print('Cross-validation data:', flush=True)\n",
        "loss, acc = model.evaluate(Reviews_val_tfidf1, Labels_val, verbose=1)\n",
        "print(\"  Cross-val: loss %.3f - acc %.3f\" % (loss, acc))\n",
        "print('Test data:', flush=True)\n",
        "loss, acc = model.evaluate(Reviews_test_tfidf1, Labels_test, verbose=1)\n",
        "print(\"  Test: loss %.3f - acc %.3f\" % (loss, acc))"
      ],
      "execution_count": 13,
      "outputs": [
        {
          "output_type": "stream",
          "text": [
            "Epoch 1/50\n",
            "22/22 - 1s - loss: 0.6929 - accuracy: 0.4943 - val_loss: 0.6928 - val_accuracy: 0.5325\n",
            "WARNING:tensorflow:Can save best model only with val_f1 available, skipping.\n",
            "Epoch 2/50\n",
            "22/22 - 0s - loss: 0.6920 - accuracy: 0.5121 - val_loss: 0.6920 - val_accuracy: 0.5375\n",
            "WARNING:tensorflow:Can save best model only with val_f1 available, skipping.\n",
            "Epoch 3/50\n",
            "22/22 - 0s - loss: 0.6906 - accuracy: 0.5443 - val_loss: 0.6913 - val_accuracy: 0.5350\n",
            "WARNING:tensorflow:Can save best model only with val_f1 available, skipping.\n",
            "Epoch 4/50\n",
            "22/22 - 0s - loss: 0.6891 - accuracy: 0.5700 - val_loss: 0.6899 - val_accuracy: 0.5950\n",
            "WARNING:tensorflow:Can save best model only with val_f1 available, skipping.\n",
            "Epoch 5/50\n",
            "22/22 - 0s - loss: 0.6878 - accuracy: 0.6071 - val_loss: 0.6891 - val_accuracy: 0.5825\n",
            "WARNING:tensorflow:Can save best model only with val_f1 available, skipping.\n",
            "Epoch 6/50\n",
            "22/22 - 0s - loss: 0.6863 - accuracy: 0.6293 - val_loss: 0.6876 - val_accuracy: 0.6275\n",
            "WARNING:tensorflow:Can save best model only with val_f1 available, skipping.\n",
            "Epoch 7/50\n",
            "22/22 - 0s - loss: 0.6856 - accuracy: 0.6043 - val_loss: 0.6871 - val_accuracy: 0.5775\n",
            "WARNING:tensorflow:Can save best model only with val_f1 available, skipping.\n",
            "Epoch 8/50\n",
            "22/22 - 0s - loss: 0.6842 - accuracy: 0.6386 - val_loss: 0.6856 - val_accuracy: 0.6400\n",
            "WARNING:tensorflow:Can save best model only with val_f1 available, skipping.\n",
            "Epoch 9/50\n",
            "22/22 - 0s - loss: 0.6828 - accuracy: 0.6364 - val_loss: 0.6842 - val_accuracy: 0.6625\n",
            "WARNING:tensorflow:Can save best model only with val_f1 available, skipping.\n",
            "Epoch 10/50\n",
            "22/22 - 0s - loss: 0.6797 - accuracy: 0.6743 - val_loss: 0.6832 - val_accuracy: 0.6300\n",
            "WARNING:tensorflow:Can save best model only with val_f1 available, skipping.\n",
            "Epoch 11/50\n",
            "22/22 - 0s - loss: 0.6789 - accuracy: 0.6771 - val_loss: 0.6812 - val_accuracy: 0.7025\n",
            "WARNING:tensorflow:Can save best model only with val_f1 available, skipping.\n",
            "Epoch 12/50\n",
            "22/22 - 0s - loss: 0.6758 - accuracy: 0.6857 - val_loss: 0.6797 - val_accuracy: 0.6900\n",
            "WARNING:tensorflow:Can save best model only with val_f1 available, skipping.\n",
            "Epoch 13/50\n",
            "22/22 - 0s - loss: 0.6727 - accuracy: 0.7271 - val_loss: 0.6778 - val_accuracy: 0.7000\n",
            "WARNING:tensorflow:Can save best model only with val_f1 available, skipping.\n",
            "Epoch 14/50\n",
            "22/22 - 0s - loss: 0.6715 - accuracy: 0.7186 - val_loss: 0.6751 - val_accuracy: 0.7775\n",
            "WARNING:tensorflow:Can save best model only with val_f1 available, skipping.\n",
            "Epoch 15/50\n",
            "22/22 - 0s - loss: 0.6682 - accuracy: 0.7264 - val_loss: 0.6730 - val_accuracy: 0.7700\n",
            "WARNING:tensorflow:Can save best model only with val_f1 available, skipping.\n",
            "Epoch 16/50\n",
            "22/22 - 0s - loss: 0.6662 - accuracy: 0.7243 - val_loss: 0.6713 - val_accuracy: 0.7150\n",
            "WARNING:tensorflow:Can save best model only with val_f1 available, skipping.\n",
            "Epoch 17/50\n",
            "22/22 - 0s - loss: 0.6625 - accuracy: 0.7257 - val_loss: 0.6680 - val_accuracy: 0.7800\n",
            "WARNING:tensorflow:Can save best model only with val_f1 available, skipping.\n",
            "Epoch 18/50\n",
            "22/22 - 0s - loss: 0.6598 - accuracy: 0.7300 - val_loss: 0.6655 - val_accuracy: 0.7725\n",
            "WARNING:tensorflow:Can save best model only with val_f1 available, skipping.\n",
            "Epoch 19/50\n",
            "22/22 - 0s - loss: 0.6567 - accuracy: 0.7564 - val_loss: 0.6623 - val_accuracy: 0.7775\n",
            "WARNING:tensorflow:Can save best model only with val_f1 available, skipping.\n",
            "Epoch 20/50\n",
            "22/22 - 0s - loss: 0.6521 - accuracy: 0.7700 - val_loss: 0.6589 - val_accuracy: 0.8075\n",
            "WARNING:tensorflow:Can save best model only with val_f1 available, skipping.\n",
            "Epoch 21/50\n",
            "22/22 - 0s - loss: 0.6494 - accuracy: 0.7700 - val_loss: 0.6557 - val_accuracy: 0.7900\n",
            "WARNING:tensorflow:Can save best model only with val_f1 available, skipping.\n",
            "Epoch 22/50\n",
            "22/22 - 0s - loss: 0.6448 - accuracy: 0.7664 - val_loss: 0.6522 - val_accuracy: 0.7825\n",
            "WARNING:tensorflow:Can save best model only with val_f1 available, skipping.\n",
            "Epoch 23/50\n",
            "22/22 - 0s - loss: 0.6413 - accuracy: 0.7793 - val_loss: 0.6478 - val_accuracy: 0.8175\n",
            "WARNING:tensorflow:Can save best model only with val_f1 available, skipping.\n",
            "Epoch 24/50\n",
            "22/22 - 0s - loss: 0.6341 - accuracy: 0.7929 - val_loss: 0.6430 - val_accuracy: 0.8400\n",
            "WARNING:tensorflow:Can save best model only with val_f1 available, skipping.\n",
            "Epoch 25/50\n",
            "22/22 - 0s - loss: 0.6274 - accuracy: 0.7914 - val_loss: 0.6398 - val_accuracy: 0.7900\n",
            "WARNING:tensorflow:Can save best model only with val_f1 available, skipping.\n",
            "Epoch 26/50\n",
            "22/22 - 0s - loss: 0.6243 - accuracy: 0.7893 - val_loss: 0.6347 - val_accuracy: 0.8025\n",
            "WARNING:tensorflow:Can save best model only with val_f1 available, skipping.\n",
            "Epoch 27/50\n",
            "22/22 - 0s - loss: 0.6163 - accuracy: 0.7950 - val_loss: 0.6293 - val_accuracy: 0.8175\n",
            "WARNING:tensorflow:Can save best model only with val_f1 available, skipping.\n",
            "Epoch 28/50\n",
            "22/22 - 0s - loss: 0.6119 - accuracy: 0.8021 - val_loss: 0.6227 - val_accuracy: 0.8500\n",
            "WARNING:tensorflow:Can save best model only with val_f1 available, skipping.\n",
            "Epoch 29/50\n",
            "22/22 - 0s - loss: 0.6028 - accuracy: 0.8143 - val_loss: 0.6179 - val_accuracy: 0.8175\n",
            "WARNING:tensorflow:Can save best model only with val_f1 available, skipping.\n",
            "Epoch 30/50\n",
            "22/22 - 0s - loss: 0.5936 - accuracy: 0.8136 - val_loss: 0.6124 - val_accuracy: 0.8075\n",
            "WARNING:tensorflow:Can save best model only with val_f1 available, skipping.\n",
            "Epoch 31/50\n",
            "22/22 - 0s - loss: 0.5891 - accuracy: 0.8164 - val_loss: 0.6040 - val_accuracy: 0.8500\n",
            "WARNING:tensorflow:Can save best model only with val_f1 available, skipping.\n",
            "Epoch 32/50\n",
            "22/22 - 0s - loss: 0.5802 - accuracy: 0.8257 - val_loss: 0.5985 - val_accuracy: 0.8325\n",
            "WARNING:tensorflow:Can save best model only with val_f1 available, skipping.\n",
            "Epoch 33/50\n",
            "22/22 - 0s - loss: 0.5761 - accuracy: 0.8186 - val_loss: 0.5910 - val_accuracy: 0.8500\n",
            "WARNING:tensorflow:Can save best model only with val_f1 available, skipping.\n",
            "Epoch 34/50\n",
            "22/22 - 0s - loss: 0.5706 - accuracy: 0.8243 - val_loss: 0.5852 - val_accuracy: 0.8350\n",
            "WARNING:tensorflow:Can save best model only with val_f1 available, skipping.\n",
            "Epoch 35/50\n",
            "22/22 - 0s - loss: 0.5557 - accuracy: 0.8393 - val_loss: 0.5769 - val_accuracy: 0.8500\n",
            "WARNING:tensorflow:Can save best model only with val_f1 available, skipping.\n",
            "Epoch 36/50\n",
            "22/22 - 0s - loss: 0.5488 - accuracy: 0.8364 - val_loss: 0.5685 - val_accuracy: 0.8575\n",
            "WARNING:tensorflow:Can save best model only with val_f1 available, skipping.\n",
            "Epoch 37/50\n",
            "22/22 - 0s - loss: 0.5421 - accuracy: 0.8350 - val_loss: 0.5625 - val_accuracy: 0.8450\n",
            "WARNING:tensorflow:Can save best model only with val_f1 available, skipping.\n",
            "Epoch 38/50\n",
            "22/22 - 0s - loss: 0.5253 - accuracy: 0.8607 - val_loss: 0.5541 - val_accuracy: 0.8550\n",
            "WARNING:tensorflow:Can save best model only with val_f1 available, skipping.\n",
            "Epoch 39/50\n",
            "22/22 - 0s - loss: 0.5185 - accuracy: 0.8536 - val_loss: 0.5453 - val_accuracy: 0.8575\n",
            "WARNING:tensorflow:Can save best model only with val_f1 available, skipping.\n",
            "Epoch 40/50\n",
            "22/22 - 0s - loss: 0.5092 - accuracy: 0.8664 - val_loss: 0.5377 - val_accuracy: 0.8525\n",
            "WARNING:tensorflow:Can save best model only with val_f1 available, skipping.\n",
            "Epoch 41/50\n",
            "22/22 - 0s - loss: 0.5042 - accuracy: 0.8443 - val_loss: 0.5308 - val_accuracy: 0.8500\n",
            "WARNING:tensorflow:Can save best model only with val_f1 available, skipping.\n",
            "Epoch 42/50\n",
            "22/22 - 0s - loss: 0.4949 - accuracy: 0.8521 - val_loss: 0.5233 - val_accuracy: 0.8525\n",
            "WARNING:tensorflow:Can save best model only with val_f1 available, skipping.\n",
            "Epoch 43/50\n",
            "22/22 - 0s - loss: 0.4734 - accuracy: 0.8764 - val_loss: 0.5141 - val_accuracy: 0.8550\n",
            "WARNING:tensorflow:Can save best model only with val_f1 available, skipping.\n",
            "Epoch 44/50\n",
            "22/22 - 0s - loss: 0.4745 - accuracy: 0.8536 - val_loss: 0.5064 - val_accuracy: 0.8525\n",
            "WARNING:tensorflow:Can save best model only with val_f1 available, skipping.\n",
            "Epoch 45/50\n",
            "22/22 - 0s - loss: 0.4646 - accuracy: 0.8643 - val_loss: 0.4987 - val_accuracy: 0.8550\n",
            "WARNING:tensorflow:Can save best model only with val_f1 available, skipping.\n",
            "Epoch 46/50\n",
            "22/22 - 0s - loss: 0.4554 - accuracy: 0.8714 - val_loss: 0.4915 - val_accuracy: 0.8550\n",
            "WARNING:tensorflow:Can save best model only with val_f1 available, skipping.\n",
            "Epoch 47/50\n",
            "22/22 - 0s - loss: 0.4440 - accuracy: 0.8793 - val_loss: 0.4858 - val_accuracy: 0.8550\n",
            "WARNING:tensorflow:Can save best model only with val_f1 available, skipping.\n",
            "Epoch 48/50\n",
            "22/22 - 0s - loss: 0.4376 - accuracy: 0.8779 - val_loss: 0.4764 - val_accuracy: 0.8650\n",
            "WARNING:tensorflow:Can save best model only with val_f1 available, skipping.\n",
            "Epoch 49/50\n",
            "22/22 - 0s - loss: 0.4206 - accuracy: 0.8914 - val_loss: 0.4691 - val_accuracy: 0.8625\n",
            "WARNING:tensorflow:Can save best model only with val_f1 available, skipping.\n",
            "Epoch 50/50\n",
            "22/22 - 0s - loss: 0.4166 - accuracy: 0.8843 - val_loss: 0.4634 - val_accuracy: 0.8575\n",
            "WARNING:tensorflow:Can save best model only with val_f1 available, skipping.\n",
            "Evaluating... \n",
            "Training data:\n",
            "44/44 [==============================] - 0s 3ms/step - loss: 0.3976 - accuracy: 0.9179\n",
            "  Train: loss 0.398 - acc 0.918\n",
            "Cross-validation data:\n",
            "13/13 [==============================] - 0s 3ms/step - loss: 0.4634 - accuracy: 0.8575\n",
            "  Cross-val: loss 0.463 - acc 0.858\n",
            "Test data:\n",
            "7/7 [==============================] - 0s 4ms/step - loss: 0.4680 - accuracy: 0.8550\n",
            "  Test: loss 0.468 - acc 0.855\n"
          ],
          "name": "stdout"
        }
      ]
    },
    {
      "cell_type": "markdown",
      "metadata": {
        "id": "wqeaQaMU1p-n"
      },
      "source": [
        "## Visualize Model Training History "
      ]
    },
    {
      "cell_type": "code",
      "metadata": {
        "id": "HSjKrmlQ1QPl",
        "colab": {
          "base_uri": "https://localhost:8080/",
          "height": 573
        },
        "outputId": "ac0f24f6-f18b-417a-eda8-2224f14aed2f"
      },
      "source": [
        "%matplotlib inline\n",
        "import matplotlib.pyplot as plt\n",
        "plt.plot(history.history['loss'])\n",
        "plt.plot(history.history['val_loss'])\n",
        "plt.title('model loss')\n",
        "plt.ylabel('loss')\n",
        "plt.xlabel('epoch')\n",
        "plt.legend(['train', 'dev'], loc='upper right')\n",
        "plt.show()\n",
        "\n",
        "plt.plot(history.history['accuracy'])\n",
        "plt.plot(history.history['val_accuracy'])\n",
        "plt.title('model accuracy')\n",
        "plt.ylabel('accuracy')\n",
        "plt.xlabel('epoch')\n",
        "plt.legend(['train', 'dev'], loc='upper right')\n",
        "plt.show()"
      ],
      "execution_count": 14,
      "outputs": [
        {
          "output_type": "display_data",
          "data": {
            "image/png": "[encoded data removed]",
            "text/plain": [
              "<Figure size 432x288 with 1 Axes>"
            ]
          },
          "metadata": {
            "tags": [],
            "needs_background": "light"
          }
        },
        {
          "output_type": "display_data",
          "data": {
            "image/png": "[encoded data removed]",
            "text/plain": [
              "<Figure size 432x288 with 1 Axes>"
            ]
          },
          "metadata": {
            "tags": [],
            "needs_background": "light"
          }
        }
      ]
    },
    {
      "cell_type": "markdown",
      "metadata": {
        "id": "Rfk-0Zx-B1Vh"
      },
      "source": [
        "# Evaluate performance of the MLP model"
      ]
    },
    {
      "cell_type": "markdown",
      "metadata": {
        "id": "tf36rwkw81CU"
      },
      "source": [
        "## Precision Recall & F1 Score of the MLP model"
      ]
    },
    {
      "cell_type": "code",
      "metadata": {
        "id": "F8ZndjPw8_u5"
      },
      "source": [
        "def scores(test_tfidf,y_label):\n",
        " predictions = model.predict_classes(test_tfidf)\n",
        " f1_scores = f1_score(y_label,predictions,average='macro')\n",
        " print(\" f1-score: %.2f%%\"%(f1_scores*100))\n",
        " precision_scores = precision_score(y_label,predictions,average='macro')\n",
        " print(\" Precision-score: %.2f%%\"%(precision_scores*100))\n",
        " recall_scores = recall_score(y_label,predictions,average='macro')\n",
        " print(\" Recall-score: %.2f%%\"%(recall_scores*100))"
      ],
      "execution_count": 15,
      "outputs": []
    },
    {
      "cell_type": "code",
      "metadata": {
        "id": "tChEks759ZaA",
        "colab": {
          "base_uri": "https://localhost:8080/"
        },
        "outputId": "317f3a9e-868c-445f-d6b2-677383ff14f0"
      },
      "source": [
        "print('--------------Train set------------------------------------')\n",
        "scores(Reviews_train_tfidf1,Labels_train)\n",
        "print('--------------Test set------------------------------------')\n",
        "scores(Reviews_test_tfidf1,Labels_test)\n",
        "print('--------------Val set------------------------------------')\n",
        "scores(Reviews_val_tfidf1,Labels_val)\n"
      ],
      "execution_count": 16,
      "outputs": [
        {
          "output_type": "stream",
          "text": [
            "--------------Train set------------------------------------\n",
            " f1-score: 91.78%\n",
            " Precision-score: 91.83%\n",
            " Recall-score: 91.77%\n",
            "--------------Test set------------------------------------\n",
            " f1-score: 85.49%\n",
            " Precision-score: 85.54%\n",
            " Recall-score: 85.48%\n",
            "--------------Val set------------------------------------\n",
            " f1-score: 85.73%\n",
            " Precision-score: 85.71%\n",
            " Recall-score: 85.75%\n"
          ],
          "name": "stdout"
        },
        {
          "output_type": "stream",
          "text": [
            "/usr/local/lib/python3.6/dist-packages/tensorflow/python/keras/engine/sequential.py:450: UserWarning: `model.predict_classes()` is deprecated and will be removed after 2021-01-01. Please use instead:* `np.argmax(model.predict(x), axis=-1)`,   if your model does multi-class classification   (e.g. if it uses a `softmax` last-layer activation).* `(model.predict(x) > 0.5).astype(\"int32\")`,   if your model does binary classification   (e.g. if it uses a `sigmoid` last-layer activation).\n",
            "  warnings.warn('`model.predict_classes()` is deprecated and '\n"
          ],
          "name": "stderr"
        }
      ]
    },
    {
      "cell_type": "markdown",
      "metadata": {
        "id": "XYVLVwy-1jvJ"
      },
      "source": [
        "## Macro-averaged precision, recall, F1 scores "
      ]
    },
    {
      "cell_type": "code",
      "metadata": {
        "id": "4Xj68rdIdx4m",
        "colab": {
          "base_uri": "https://localhost:8080/"
        },
        "outputId": "9e80f038-4ddc-4612-e67b-825747826bfe"
      },
      "source": [
        "predictions = model.predict_classes(Reviews_train_tfidf1)\n",
        "predictions_val = model.predict_classes(Reviews_val_tfidf1)\n",
        "predictions_test = model.predict_classes(Reviews_test_tfidf1)\n",
        "\n",
        "print('--------------Train set------------------------------------')\n",
        "print(classification_report(Labels_train,predictions.ravel(),digits=4))\n",
        "print('--------------Validation set-------------------------------')\n",
        "print(classification_report(Labels_val,predictions_val.ravel(),digits=4))\n",
        "print('--------------Test set-------------------------------------')\n",
        "print(classification_report(Labels_test,predictions_test.ravel(),digits=4))"
      ],
      "execution_count": 17,
      "outputs": [
        {
          "output_type": "stream",
          "text": [
            "--------------Train set------------------------------------\n",
            "              precision    recall  f1-score   support\n",
            "\n",
            "           0     0.9300    0.9017    0.9156       692\n",
            "           1     0.9067    0.9336    0.9200       708\n",
            "\n",
            "    accuracy                         0.9179      1400\n",
            "   macro avg     0.9183    0.9177    0.9178      1400\n",
            "weighted avg     0.9182    0.9179    0.9178      1400\n",
            "\n",
            "--------------Validation set-------------------------------\n",
            "              precision    recall  f1-score   support\n",
            "\n",
            "           0     0.8689    0.8565    0.8627       209\n",
            "           1     0.8454    0.8586    0.8519       191\n",
            "\n",
            "    accuracy                         0.8575       400\n",
            "   macro avg     0.8571    0.8575    0.8573       400\n",
            "weighted avg     0.8577    0.8575    0.8575       400\n",
            "\n",
            "--------------Test set-------------------------------------\n",
            "              precision    recall  f1-score   support\n",
            "\n",
            "           0     0.8646    0.8384    0.8513        99\n",
            "           1     0.8462    0.8713    0.8585       101\n",
            "\n",
            "    accuracy                         0.8550       200\n",
            "   macro avg     0.8554    0.8548    0.8549       200\n",
            "weighted avg     0.8553    0.8550    0.8549       200\n",
            "\n"
          ],
          "name": "stdout"
        },
        {
          "output_type": "stream",
          "text": [
            "/usr/local/lib/python3.6/dist-packages/tensorflow/python/keras/engine/sequential.py:450: UserWarning: `model.predict_classes()` is deprecated and will be removed after 2021-01-01. Please use instead:* `np.argmax(model.predict(x), axis=-1)`,   if your model does multi-class classification   (e.g. if it uses a `softmax` last-layer activation).* `(model.predict(x) > 0.5).astype(\"int32\")`,   if your model does binary classification   (e.g. if it uses a `sigmoid` last-layer activation).\n",
            "  warnings.warn('`model.predict_classes()` is deprecated and '\n"
          ],
          "name": "stderr"
        }
      ]
    },
    {
      "cell_type": "markdown",
      "metadata": {
        "id": "vSQCgPyNxUIm"
      },
      "source": [
        "# BootStrap(Baseline Model vs MLP Model)"
      ]
    },
    {
      "cell_type": "code",
      "metadata": {
        "id": "D55z_rPaxUQ8"
      },
      "source": [
        "def BootStrap(test_set=Reviews_test_tfidf1,test_set1=Reviews_test_tfidf,y_test=Labels_test,b=30):\n",
        "\n",
        "  predictions_mlp = model.predict_classes(test_set)\n",
        "  predictions_base = base.predict(test_set)\n",
        "\n",
        "  f1_score_mlp = f1_score(y_test,predictions_mlp,average='macro')\n",
        "  f1_score_base = f1_score(y_test,predictions_base,average='macro')\n",
        "\n",
        "  delta = f1_score_mlp-f1_score_base\n",
        "  s=0\n",
        "  for _ in range(b):\n",
        "\n",
        "    X_test_sample, y_test_sample = resample(test_set1,y_test)\n",
        "\n",
        "    X_test_sample = convert_sparse_matrix_to_sparse_tensor(X_test_sample)\n",
        "    X_test_sample=tf.sparse.reorder(X_test_sample)\n",
        "\n",
        "    predictions_mlp_sample = model.predict_classes(X_test_sample)\n",
        "    predictions_base_sample = base.predict( X_test_sample)\n",
        "\n",
        "    f1_score_mlp_sample = f1_score(y_test_sample,predictions_mlp_sample,average='macro')\n",
        "    f1_score_base_sample = f1_score(y_test_sample,predictions_base_sample,average='macro')\n",
        "    delta_star =f1_score_base_sample - f1_score_mlp_sample \n",
        "    if delta_star > 2*delta:\n",
        "      s+=1\n",
        "\n",
        "  return round(s/b,4)"
      ],
      "execution_count": 18,
      "outputs": []
    },
    {
      "cell_type": "code",
      "metadata": {
        "id": "7_kqDbPYxmN-",
        "colab": {
          "base_uri": "https://localhost:8080/"
        },
        "outputId": "c81a5fa0-4858-4fc9-c445-e0f461319e39"
      },
      "source": [
        "pvalue=BootStrap()\n",
        "print(pvalue)"
      ],
      "execution_count": 19,
      "outputs": [
        {
          "output_type": "stream",
          "text": [
            "/usr/local/lib/python3.6/dist-packages/tensorflow/python/keras/engine/sequential.py:450: UserWarning: `model.predict_classes()` is deprecated and will be removed after 2021-01-01. Please use instead:* `np.argmax(model.predict(x), axis=-1)`,   if your model does multi-class classification   (e.g. if it uses a `softmax` last-layer activation).* `(model.predict(x) > 0.5).astype(\"int32\")`,   if your model does binary classification   (e.g. if it uses a `sigmoid` last-layer activation).\n",
            "  warnings.warn('`model.predict_classes()` is deprecated and '\n"
          ],
          "name": "stderr"
        },
        {
          "output_type": "stream",
          "text": [
            "0.0\n"
          ],
          "name": "stdout"
        }
      ]
    },
    {
      "cell_type": "markdown",
      "metadata": {
        "id": "rznlOtPmEWHU"
      },
      "source": [
        "# BootStrap(Logistic Regression Model vs MLP Model)"
      ]
    },
    {
      "cell_type": "code",
      "metadata": {
        "id": "RKZgxdbGEb1r"
      },
      "source": [
        "def BootStrap1(test_set=Reviews_test_tfidf1,test_set1=Reviews_test_tfidf,y_test=Labels_test,b=30):\n",
        "\n",
        "  predictions_log = clf.predict(test_set1)\n",
        "  predictions_mlp = model.predict_classes(test_set)\n",
        "  \n",
        "  f1_score_log = f1_score(y_test,predictions_log,average='macro')\n",
        "  f1_score_mlp = f1_score(y_test,predictions_mlp,average='macro')\n",
        "\n",
        "  delta = f1_score_log-f1_score_mlp\n",
        "  s=0\n",
        "  for _ in range(b):\n",
        "    X_test_sample, y_test_sample = resample(test_set1,y_test)\n",
        "\n",
        "    X_test_sample1 = convert_sparse_matrix_to_sparse_tensor(X_test_sample)\n",
        "    X_test_sample1 =tf.sparse.reorder(X_test_sample1)\n",
        "\n",
        "    predictions_log_sample = clf.predict(X_test_sample)\n",
        "    predictions_mlp_sample = model.predict_classes( X_test_sample1)\n",
        "\n",
        "    f1_score_log_sample = f1_score(y_test_sample,predictions_log_sample,average='macro')\n",
        "    f1_score_mlp_sample = f1_score(y_test_sample,predictions_mlp_sample,average='macro')\n",
        "\n",
        "    delta_star =f1_score_log_sample - f1_score_mlp_sample \n",
        "    if delta_star > 2*delta:\n",
        "      s+=1\n",
        "\n",
        "  return round(s/b,4)\n",
        "  "
      ],
      "execution_count": 20,
      "outputs": []
    },
    {
      "cell_type": "code",
      "metadata": {
        "id": "u3HADNihEubI",
        "colab": {
          "base_uri": "https://localhost:8080/"
        },
        "outputId": "fddc84ef-6f05-48cd-b145-814b4695a4b2"
      },
      "source": [
        "pvalue1=BootStrap1()\n",
        "print(pvalue1)"
      ],
      "execution_count": 21,
      "outputs": [
        {
          "output_type": "stream",
          "text": [
            "/usr/local/lib/python3.6/dist-packages/tensorflow/python/keras/engine/sequential.py:450: UserWarning: `model.predict_classes()` is deprecated and will be removed after 2021-01-01. Please use instead:* `np.argmax(model.predict(x), axis=-1)`,   if your model does multi-class classification   (e.g. if it uses a `softmax` last-layer activation).* `(model.predict(x) > 0.5).astype(\"int32\")`,   if your model does binary classification   (e.g. if it uses a `sigmoid` last-layer activation).\n",
            "  warnings.warn('`model.predict_classes()` is deprecated and '\n"
          ],
          "name": "stderr"
        },
        {
          "output_type": "stream",
          "text": [
            "0.1\n"
          ],
          "name": "stdout"
        }
      ]
    },
    {
      "cell_type": "markdown",
      "metadata": {
        "id": "AYY33-sF_qul"
      },
      "source": [
        "# ROC curves for Baseline & MLP model"
      ]
    },
    {
      "cell_type": "code",
      "metadata": {
        "id": "497cT-0s48dE"
      },
      "source": [
        "def plot_roc_curve(fpr,tpr):\n",
        "  plt.plot(fpr,tpr)\n",
        "  plt.axis([0,1,0,1])\n",
        "  plt.xlabel('False Positive Rate')\n",
        "  plt.ylabel('True Positive Rate')\n",
        "  plt.show()"
      ],
      "execution_count": 22,
      "outputs": []
    },
    {
      "cell_type": "code",
      "metadata": {
        "id": "vBxFZNKZ5JEu",
        "colab": {
          "base_uri": "https://localhost:8080/",
          "height": 929
        },
        "outputId": "c611bdba-df6f-4651-e417-240cfede7942"
      },
      "source": [
        "#------------For MLP Model------------\n",
        "y_test_cat_prob=model.predict_proba(Reviews_test_tfidf1)\n",
        "fpr , tpr , thresholds = roc_curve( Labels_test, y_test_cat_prob)\n",
        "auc = roc_auc_score(Labels_test, y_test_cat_prob)\n",
        "print('AUC score for MLP: %f' % auc)\n",
        "plot_roc_curve(fpr,tpr) \n",
        "#----------For Baseline Model---------\n",
        "predictions = base.predict(Reviews_test_tfidf1)\n",
        "fpr , tpr , thresholds = roc_curve( Labels_test, predictions)\n",
        "auc = roc_auc_score(Labels_test, predictions)\n",
        "print('AUC score for Baseline: %f' % auc)\n",
        "plot_roc_curve(fpr,tpr)\n",
        "\n",
        "#----------For Logistic Regression--------\n",
        "predictions = clf.predict(Reviews_test_tfidf)\n",
        "fpr , tpr , thresholds = roc_curve( Labels_test, predictions)\n",
        "auc = roc_auc_score(Labels_test, predictions)\n",
        "print('AUC score for Logistic: %f' % auc)\n",
        "plot_roc_curve(fpr,tpr)"
      ],
      "execution_count": 23,
      "outputs": [
        {
          "output_type": "stream",
          "text": [
            "AUC score for MLP: 0.930093\n"
          ],
          "name": "stdout"
        },
        {
          "output_type": "stream",
          "text": [
            "/usr/local/lib/python3.6/dist-packages/tensorflow/python/keras/engine/sequential.py:425: UserWarning: `model.predict_proba()` is deprecated and will be removed after 2021-01-01. Please use `model.predict()` instead.\n",
            "  warnings.warn('`model.predict_proba()` is deprecated and '\n"
          ],
          "name": "stderr"
        },
        {
          "output_type": "display_data",
          "data": {
            "image/png": "[encoded data removed]",
            "text/plain": [
              "<Figure size 432x288 with 1 Axes>"
            ]
          },
          "metadata": {
            "tags": [],
            "needs_background": "light"
          }
        },
        {
          "output_type": "stream",
          "text": [
            "AUC score for Baseline: 0.500000\n"
          ],
          "name": "stdout"
        },
        {
          "output_type": "display_data",
          "data": {
            "image/png": "[encoded data removed]",
            "text/plain": [
              "<Figure size 432x288 with 1 Axes>"
            ]
          },
          "metadata": {
            "tags": [],
            "needs_background": "light"
          }
        },
        {
          "output_type": "stream",
          "text": [
            "AUC score for Logistic: 0.874837\n"
          ],
          "name": "stdout"
        },
        {
          "output_type": "display_data",
          "data": {
            "image/png": "[encoded data removed]",
            "text/plain": [
              "<Figure size 432x288 with 1 Axes>"
            ]
          },
          "metadata": {
            "tags": [],
            "needs_background": "light"
          }
        }
      ]
    }
  ]
}